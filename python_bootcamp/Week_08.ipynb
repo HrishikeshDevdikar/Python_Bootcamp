{
 "cells": [
  {
   "cell_type": "markdown",
   "metadata": {},
   "source": [
    "# List comprehension"
   ]
  },
  {
   "cell_type": "code",
   "execution_count": 1,
   "metadata": {},
   "outputs": [
    {
     "name": "stdout",
     "output_type": "stream",
     "text": [
      "[0, 1, 2, 3, 4, 5, 6, 7, 8, 9, 10, 11, 12, 13, 14, 15, 16, 17, 18, 19, 20, 21, 22, 23, 24, 25, 26, 27, 28, 29, 30, 31, 32, 33, 34, 35, 36, 37, 38, 39, 40, 41, 42, 43, 44, 45, 46, 47, 48, 49, 50, 51, 52, 53, 54, 55, 56, 57, 58, 59, 60, 61, 62, 63, 64, 65, 66, 67, 68, 69, 70, 71, 72, 73, 74, 75, 76, 77, 78, 79, 80, 81, 82, 83, 84, 85, 86, 87, 88, 89, 90, 91, 92, 93, 94, 95, 96, 97, 98, 99]\n"
     ]
    }
   ],
   "source": [
    "# create a list of ten number using list comprehension\n",
    "num = [x for x in range(100)] #generate a list from 0 to 100\n",
    "print(num)"
   ]
  },
  {
   "cell_type": "code",
   "execution_count": 2,
   "metadata": {},
   "outputs": [
    {
     "name": "stdout",
     "output_type": "stream",
     "text": [
      "[0, 2, 4, 6, 8]\n"
     ]
    }
   ],
   "source": [
    "# using if statement within list comprehension\n",
    "nums = [x for x in range(10) if x % 2 ==0 ] #generate list of even nums\n",
    "print(nums)"
   ]
  },
  {
   "cell_type": "code",
   "execution_count": 3,
   "metadata": {},
   "outputs": [
    {
     "name": "stdout",
     "output_type": "stream",
     "text": [
      "['Even', 'Odd', 'Even', 'Odd', 'Even', 'Odd', 'Even', 'Odd', 'Even', 'Odd']\n"
     ]
    }
   ],
   "source": [
    "# using if/else statement within list comprehension\n",
    "nums = [\"Even\" if x % 2 == 0 else \"Odd\" for x in range(10)]\n",
    "print(nums)"
   ]
  },
  {
   "cell_type": "code",
   "execution_count": 4,
   "metadata": {},
   "outputs": [
    {
     "name": "stdout",
     "output_type": "stream",
     "text": [
      "[4, 16, 36, 64]\n"
     ]
    }
   ],
   "source": [
    "# creating a list of squared numbers from another list of numbers using list comprehension\n",
    "nums = [2,4,6,8]\n",
    "squared_nums = [nums**2 for nums in nums]\n",
    "print(squared_nums)"
   ]
  },
  {
   "cell_type": "code",
   "execution_count": 5,
   "metadata": {},
   "outputs": [
    {
     "name": "stdout",
     "output_type": "stream",
     "text": [
      "{0: 0, 2: 4, 4: 16, 6: 36, 8: 64}\n"
     ]
    }
   ],
   "source": [
    "# creating a dictionary of even numbers and square values using comprehension\n",
    "numbers = [x for x in range(10)]\n",
    "squares = {num: num**2 for num in numbers if num %2==0}\n",
    "print(squares)"
   ]
  },
  {
   "cell_type": "code",
   "execution_count": 15,
   "metadata": {},
   "outputs": [
    {
     "name": "stdout",
     "output_type": "stream",
     "text": [
      "[53.6, 69.8, 59.0, 89.6]\n"
     ]
    }
   ],
   "source": [
    "\"\"\"\n",
    "Exercise: Using list comprehension, convert the following list to\n",
    "Fahrenheit. Currently, the degrees are in Celsius temperatures. The conversion\n",
    "formula is “(9/5) * C + 32”. Your output should be [ 53.6, 69.8, 59, 89.6 ].\n",
    ">>> degrees = [ 12, 21, 15, 32 ]\n",
    "\"\"\"\n",
    "degrees = [12, 21, 15, 32]\n",
    "\n",
    "degrees = [round((9/5) * deg + 32, 1) for deg in degrees]\n",
    "\n",
    "print(degrees)"
   ]
  },
  {
   "cell_type": "code",
   "execution_count": 20,
   "metadata": {},
   "outputs": [
    {
     "name": "stdout",
     "output_type": "stream",
     "text": [
      "Enter a number between 1 to 100(including): 25\n",
      "[25, 50, 75, 100]\n"
     ]
    }
   ],
   "source": [
    "\"\"\"\n",
    "Exercise: Ask the user to input a single integer up to and including 100.\n",
    "Generate a list of numbers that are exactly divisible by that number up to and\n",
    "including 100 using list comprehension. For example, if the number 25 was\n",
    "input, then the output should be [ 25, 50, 75, 100 ].\n",
    "\"\"\"\n",
    "ask =int( input(\"Enter a number between 1 to 100(including): \"))\n",
    "listy = [num for num in range(1,101) if num % ask == 0 ]\n",
    "print(listy)\n"
   ]
  },
  {
   "cell_type": "markdown",
   "metadata": {},
   "source": [
    "# Lambda Function"
   ]
  },
  {
   "cell_type": "code",
   "execution_count": 21,
   "metadata": {},
   "outputs": [
    {
     "data": {
      "text/plain": [
       "16"
      ]
     },
     "execution_count": 21,
     "metadata": {},
     "output_type": "execute_result"
    }
   ],
   "source": [
    "# using a lambda function\n",
    "( lambda x : x**2)(4)\n",
    "# first parenthesis is lambda function and second is the argument"
   ]
  },
  {
   "cell_type": "code",
   "execution_count": 22,
   "metadata": {},
   "outputs": [
    {
     "data": {
      "text/plain": [
       "50"
      ]
     },
     "execution_count": 22,
     "metadata": {},
     "output_type": "execute_result"
    }
   ],
   "source": [
    "# passing multiple arguments into a lambda\n",
    "(lambda x,y : x * y)(10,5)\n",
    "# returns x * y "
   ]
  },
  {
   "cell_type": "code",
   "execution_count": 23,
   "metadata": {},
   "outputs": [
    {
     "name": "stdout",
     "output_type": "stream",
     "text": [
      "<function <lambda> at 0x000001D10C126D30>\n",
      "50\n"
     ]
    }
   ],
   "source": [
    "# saving a lamvda function into a variable\n",
    "square = lambda x,y : x*y\n",
    "print(square)\n",
    "result = square(10,5) #calls the lamda function\n",
    "print(result)\n",
    "# no need of parenthesis lambda function when using variables"
   ]
  },
  {
   "cell_type": "code",
   "execution_count": 24,
   "metadata": {},
   "outputs": [
    {
     "name": "stdout",
     "output_type": "stream",
     "text": [
      "10\n"
     ]
    }
   ],
   "source": [
    "# using if/else within a lambda to return the greatest number\n",
    "greater = lambda x,y : x if x > y else y\n",
    "result = greater(5,10)\n",
    "print(result)"
   ]
  },
  {
   "cell_type": "code",
   "execution_count": 26,
   "metadata": {},
   "outputs": [
    {
     "name": "stdout",
     "output_type": "stream",
     "text": [
      "10\n",
      "15\n"
     ]
    }
   ],
   "source": [
    "# returning a lambda function from another function\n",
    "def my_func(n):\n",
    "    return lambda x : x * n\n",
    "doubler = my_func(2) # returns equivalent of lambda x : x * 2\n",
    "print(doubler(5)) # will output 10\n",
    "tripler = my_func(3)\n",
    "print(tripler(5))"
   ]
  },
  {
   "cell_type": "code",
   "execution_count": 28,
   "metadata": {},
   "outputs": [
    {
     "data": {
      "text/plain": [
       "71.6"
      ]
     },
     "execution_count": 28,
     "metadata": {},
     "output_type": "execute_result"
    }
   ],
   "source": [
    "\"\"\"\n",
    "Exercise: Write a lambda function that \n",
    "takes in a degree value in Celsius and returns the degree converted into Fahrenheit.\n",
    "\"\"\"\n",
    "(lambda deg : (9/5)* deg + 32) (22)"
   ]
  },
  {
   "cell_type": "markdown",
   "metadata": {},
   "source": [
    "# Map , Reduce and Filter"
   ]
  },
  {
   "cell_type": "code",
   "execution_count": 32,
   "metadata": {},
   "outputs": [
    {
     "name": "stdout",
     "output_type": "stream",
     "text": [
      "<map object at 0x000001D10D387400>\n",
      "[54.5, 56.5, 48.6]\n"
     ]
    }
   ],
   "source": [
    "# using the map function without lambdas\n",
    "def convDeg(c):\n",
    "    return round((9/5) * c + 32, 1)\n",
    "temp = [12.5, 13.6, 9.2] \n",
    "converted_temp = map(convDeg , temp)\n",
    "print(converted_temp) # map function returns a map object, not converted data collection\n",
    "converted_temp = list(converted_temp) #type convert map object\n",
    "print(converted_temp)"
   ]
  },
  {
   "cell_type": "code",
   "execution_count": 34,
   "metadata": {},
   "outputs": [
    {
     "name": "stdout",
     "output_type": "stream",
     "text": [
      "[54.5, 56.5, 48.6]\n"
     ]
    }
   ],
   "source": [
    "# using a map function with lambdas\n",
    "temp = [12.5, 13.6, 9.2] \n",
    "converted_temp = list(map(lambda c :round((9/5) * c + 32, 1 ), temp))\n",
    "print(converted_temp)\n"
   ]
  },
  {
   "cell_type": "code",
   "execution_count": 2,
   "metadata": {},
   "outputs": [
    {
     "name": "stdout",
     "output_type": "stream",
     "text": [
      "<filter object at 0x0000017DF5E0C0D0>\n",
      "[13.6, 15]\n"
     ]
    }
   ],
   "source": [
    "# using the filter function without lambda function, filter  out temps below 55f\n",
    "def filterTemps(c):\n",
    "    converted = (9/5) * c +32\n",
    "    return True if converted > 55 else False  # use ternary operator\n",
    "temps = [12, 14, 15, 9]\n",
    "filtered_temp = filter(filterTemps, temps)\n",
    "print(filtered_temp)\n",
    "filtered_temp = list(filtered_temp)\n",
    "print(filtered_temp)"
   ]
  },
  {
   "cell_type": "code",
   "execution_count": 4,
   "metadata": {},
   "outputs": [
    {
     "name": "stdout",
     "output_type": "stream",
     "text": [
      "[15, 16, 14, 17]\n"
     ]
    }
   ],
   "source": [
    "# using lambda function to filter function temperature below 55F\n",
    "temps = [12, 15, 16, 14, 10, 3 ,17]\n",
    "filtered_temps = list(filter(lambda c : True if (9/5) * c + 32 > 55 else False, temps) )\n",
    "print(filtered_temps)                    "
   ]
  },
  {
   "cell_type": "code",
   "execution_count": 6,
   "metadata": {},
   "outputs": [
    {
     "name": "stdout",
     "output_type": "stream",
     "text": [
      "24\n"
     ]
    }
   ],
   "source": [
    "# use the reduce function\n",
    "from functools import reduce\n",
    "nums = [1,2,3,4]\n",
    "result = reduce(lambda a,b : a * b, nums)\n",
    "print(result)"
   ]
  },
  {
   "cell_type": "code",
   "execution_count": 12,
   "metadata": {},
   "outputs": [
    {
     "name": "stdout",
     "output_type": "stream",
     "text": [
      "['Ryan', 'Paul', 'Kevin Connors ']\n"
     ]
    }
   ],
   "source": [
    "\"\"\"\n",
    "Exercise: Use a lambda and map function to map over the list of\n",
    "names in the following to produce the following result “[ “Ryan”, “Paul”,\n",
    "“Kevin Connors” ].\n",
    ">>> names = [ \" ryan\", \"PAUL\", \"kevin connors \" ] \n",
    "\"\"\"\n",
    "names = [ \"ryan\", \"PAUL\", \"kevin connors \" ] \n",
    "output = list(map(lambda name : name.title(),names))\n",
    "print(output)"
   ]
  },
  {
   "cell_type": "code",
   "execution_count": 13,
   "metadata": {},
   "outputs": [
    {
     "name": "stdout",
     "output_type": "stream",
     "text": [
      "['Frank', 'Ripal']\n"
     ]
    }
   ],
   "source": [
    "\"\"\"\n",
    "Exercise: Using a lambda and filter function, filter out all the names that\n",
    "start with the letter “A.” Make it case insensitive, so it filters out the name\n",
    "whether it’s uppercase or not. The output of the following list should be\n",
    "[ “Frank”, “Ripal” ].\n",
    ">>> names = [ \"Amanda\", \"Frank\", \"abby\", \"Ripal\", \"Adam\" ]\n",
    "\"\"\"\n",
    "names = [\"Amanda\", \"Frank\", \"abby\", \"Ripal\", \"Adam\"]\n",
    "\n",
    "names = list(filter(lambda name: True if name[0].lower() != 'a' else False, names))\n",
    "\n",
    "print(names)"
   ]
  },
  {
   "cell_type": "markdown",
   "metadata": {},
   "source": [
    "# Recursive Function and Memoization"
   ]
  },
  {
   "cell_type": "code",
   "execution_count": 7,
   "metadata": {},
   "outputs": [
    {
     "name": "stdout",
     "output_type": "stream",
     "text": [
      "120\n"
     ]
    }
   ],
   "source": [
    "# writing a factorial using recursive function\n",
    "def factorial(n):\n",
    "    # set your base case!\n",
    "    if n <= 1:\n",
    "        return 1\n",
    "    else:\n",
    "        return factorial(n-1) * n\n",
    "print(factorial(5))"
   ]
  },
  {
   "cell_type": "code",
   "execution_count": 17,
   "metadata": {},
   "outputs": [
    {
     "name": "stdout",
     "output_type": "stream",
     "text": [
      "5\n"
     ]
    }
   ],
   "source": [
    "# writing a recursive fibonacci sequence\n",
    "def fib(n):\n",
    "    if n <=1:\n",
    "        return n\n",
    "    else:\n",
    "        return fib(n-1)+ fib(n-2)\n",
    "print(fib(5))"
   ]
  },
  {
   "cell_type": "code",
   "execution_count": 9,
   "metadata": {},
   "outputs": [
    {
     "name": "stdout",
     "output_type": "stream",
     "text": [
      "12586269025\n"
     ]
    }
   ],
   "source": [
    "# using memoization with the fibonacci sequence\n",
    "cache = {} # using to cache values to be used later\n",
    "def fib(n):\n",
    "    if n in cache : \n",
    "        return cache[n]  #return value stored in dictionary\n",
    "    result = 0\n",
    "    # base case\n",
    "    if n <= 1:\n",
    "        result = n \n",
    "    else:\n",
    "        result = fib(n-1) + fib(n-2)\n",
    "    cache[n] = result\n",
    "    \n",
    "    return result\n",
    "print(fib(50)) #calculates almost instantly"
   ]
  },
  {
   "cell_type": "code",
   "execution_count": 10,
   "metadata": {},
   "outputs": [
    {
     "data": {
      "text/plain": [
       "12586269025"
      ]
     },
     "execution_count": 10,
     "metadata": {},
     "output_type": "execute_result"
    }
   ],
   "source": [
    "# using @Lru_cache, Python's default moization/caching technique\n",
    "from functools import lru_cache\n",
    "@lru_cache()   # python's built-in memoization system\n",
    "def fib(n):\n",
    "    if n <= 1:\n",
    "        return n\n",
    "    else:\n",
    "        return fib( n -1 ) + fib(n-2)\n",
    "fib(50)"
   ]
  },
  {
   "cell_type": "markdown",
   "metadata": {},
   "source": [
    "# Binary Search Algorithm\n"
   ]
  },
  {
   "cell_type": "code",
   "execution_count": 23,
   "metadata": {
    "scrolled": true
   },
   "outputs": [
    {
     "name": "stdout",
     "output_type": "stream",
     "text": [
      "[0, 1, 3, 4, 4, 5, 9, 9, 9, 10, 10, 11, 12, 12, 12, 16, 16, 17, 18, 20]\n",
      "[0, 1, 3, 4, 4, 5, 9, 9, 9, 10]\n",
      "[0, 1, 3, 4, 4]\n",
      "True\n"
     ]
    }
   ],
   "source": [
    "# setting up imports and generating a list of random number\n",
    "import random\n",
    "nums = [random.randint(0,20) for i in range(20)] \n",
    "\n",
    "def binarySearch(aList, num):\n",
    "    #step1 : sort the list\n",
    "    aList.sort()\n",
    "    #step6: setup a loop to repeat step 2 through 6 until list empty\n",
    "    while aList:\n",
    "        #step2 : find the middle index\n",
    "        mid = len(aList) // 2 # two slashes mean floor division.\n",
    "        #step3 : check the value at middle index, if equal to num return True\n",
    "        if aList[mid] == num:\n",
    "            return True\n",
    "        #step4 : check if value is greater, if so,cut off right half of list using slicing\n",
    "        elif aList[mid] > num:\n",
    "            aList = aList[ : mid ]\n",
    "\n",
    "        #step5: check if value is less,if so, cut off left half\n",
    "        elif aList[mid] < num:\n",
    "            aList = aList[ mid + 1 : ]\n",
    "        print(aList)\n",
    "        #step 7:return False if it makes to this line it means list was empty and num not found\n",
    "    return False\n",
    "    \n",
    "print(sorted(nums))\n",
    "print(binarySearch(nums,3))"
   ]
  },
  {
   "cell_type": "code",
   "execution_count": null,
   "metadata": {},
   "outputs": [],
   "source": [
    "# Binary Search using Recursion\n",
    "import random\n",
    "\n",
    "nums = [ random.randint(0, 20) for i in range(10) ]\n",
    "\n",
    "def binarySearch(aList, num):\n",
    "    # base case\n",
    "    if aList == []:\n",
    "        return False\n",
    "    \n",
    "    aList.sort( )\n",
    "    \n",
    "    mid = len(aList) // 2\n",
    "\n",
    "    if aList[mid] == num:\n",
    "        return True\n",
    "    elif aList[mid] > num:\n",
    "        return binarySearch(aList[ : mid ], num)\n",
    "    elif aList[mid] < num:\n",
    "        return binarySearch(aList[ mid + 1 : ], num)\n",
    "    \n",
    "print( sorted(nums) )\n",
    "print( binarySearch(nums, 3) )\n"
   ]
  }
 ],
 "metadata": {
  "kernelspec": {
   "display_name": "Python 3",
   "language": "python",
   "name": "python3"
  },
  "language_info": {
   "codemirror_mode": {
    "name": "ipython",
    "version": 3
   },
   "file_extension": ".py",
   "mimetype": "text/x-python",
   "name": "python",
   "nbconvert_exporter": "python",
   "pygments_lexer": "ipython3",
   "version": "3.8.5"
  }
 },
 "nbformat": 4,
 "nbformat_minor": 4
}
