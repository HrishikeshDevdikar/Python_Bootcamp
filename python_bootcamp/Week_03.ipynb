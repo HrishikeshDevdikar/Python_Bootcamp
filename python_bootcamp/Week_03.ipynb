{
 "cells": [
  {
   "cell_type": "markdown",
   "metadata": {},
   "source": [
    "# User Input and Type Converting"
   ]
  },
  {
   "cell_type": "code",
   "execution_count": 1,
   "metadata": {},
   "outputs": [
    {
     "name": "stdout",
     "output_type": "stream",
     "text": [
      "What is your name?Hrishikesh\n",
      "Hrishikesh\n"
     ]
    }
   ],
   "source": [
    "#accepting and outputting user input\n",
    "print(input(\"What is your name?\"))"
   ]
  },
  {
   "cell_type": "code",
   "execution_count": 2,
   "metadata": {},
   "outputs": [
    {
     "name": "stdout",
     "output_type": "stream",
     "text": [
      " What is yor name?Hrishikesh\n",
      "Hello Hrishikesh!\n"
     ]
    }
   ],
   "source": [
    "# saving what the user inputs\n",
    "ans = input(\" What is yor name?\")\n",
    "print(\"Hello {}!\".format(ans))"
   ]
  },
  {
   "cell_type": "code",
   "execution_count": 3,
   "metadata": {},
   "outputs": [
    {
     "name": "stdout",
     "output_type": "stream",
     "text": [
      "<class 'int'>\n"
     ]
    }
   ],
   "source": [
    "#how to check the data type of a variable\n",
    "num=5\n",
    "print(type(num))"
   ]
  },
  {
   "cell_type": "code",
   "execution_count": 6,
   "metadata": {},
   "outputs": [
    {
     "name": "stdout",
     "output_type": "stream",
     "text": [
      "<class 'int'>\n",
      "1 <class 'int'>\n"
     ]
    }
   ],
   "source": [
    "# converting a variable from one data type to another\n",
    "num= \"9\"\n",
    "num= int(num)  # re-declaring num to store an integer\n",
    "print(type(num))\n",
    "\n",
    "num1= True\n",
    "num1= int(num1)  # True get converted to value 1\n",
    "print(num1,type(num1))\n"
   ]
  },
  {
   "cell_type": "code",
   "execution_count": 9,
   "metadata": {},
   "outputs": [
    {
     "name": "stdout",
     "output_type": "stream",
     "text": [
      "Type a number to add: 9\n",
      "<class 'str'>\n",
      "100 + 9 = 109\n"
     ]
    }
   ],
   "source": [
    "# working with user input to perform calculations\n",
    "ans = input(\"Type a number to add: \")\n",
    "print(type(ans))  #default type is string\n",
    "result = 100 + int(ans)\n",
    "print(\"100 + {} = {}\".format(ans,result))\n",
    "\"\"\"\n",
    "Inputting the number “9” will give us a proper result;\n",
    "however, this conversion would not work well with the word “nine” because the default\n",
    "return type for input is a string as noted by the first print statement in this cell.\n",
    "\"\"\"  "
   ]
  },
  {
   "cell_type": "code",
   "execution_count": 1,
   "metadata": {},
   "outputs": [
    {
     "name": "stdout",
     "output_type": "stream",
     "text": [
      "Type a number to add: nine\n",
      "You did not put a valid number\n",
      "The program did not break\n"
     ]
    }
   ],
   "source": [
    "# using the try and except blocks\n",
    "try: \n",
    "    ans = float (input(\"Type a number to add: \"))\n",
    "    print(\"100 + {} = {}\".format(ans,result))\n",
    "except:\n",
    "    print(\"You did not put a valid number\")\n",
    "    print(\"The program did not break\")"
   ]
  },
  {
   "cell_type": "code",
   "execution_count": 2,
   "metadata": {},
   "outputs": [
    {
     "name": "stdout",
     "output_type": "stream",
     "text": [
      "<class 'bool'>\n"
     ]
    }
   ],
   "source": [
    "\"\"\"\n",
    "Exercise 1:  Try converting a string of “True” to a boolean, and then output its\n",
    "type to make sure it converted properly.\n",
    "\"\"\"  \n",
    "str=\"True\"\n",
    "str = bool(str)\n",
    "print(type(str))"
   ]
  },
  {
   "cell_type": "code",
   "execution_count": 6,
   "metadata": {},
   "outputs": [
    {
     "name": "stdout",
     "output_type": "stream",
     "text": [
      "Enter first number5\n",
      "Enter second number2\n",
      "Sum = 7\n"
     ]
    }
   ],
   "source": [
    "\"\"\"\n",
    "Exercise 2: Create two input statements, and ask the user to enter two\n",
    "numbers. Print the sum of these numbers out.\n",
    "\"\"\" \n",
    "a = input(\"Enter first number\")\n",
    "b = input(\"Enter second number\")\n",
    "sum= int(a)+int(b)\n",
    "print(\"Sum = {}\".format(sum))"
   ]
  },
  {
   "cell_type": "code",
   "execution_count": 11,
   "metadata": {},
   "outputs": [
    {
     "name": "stdout",
     "output_type": "stream",
     "text": [
      "Enter the car manufacture year:2018\n",
      "Enter the make of the car:Chevrolet\n",
      " Enter the model of the car:silverado\n",
      "Enter the color of the car:blue\n",
      "2018 Blue Chevrolet Silverado\n"
     ]
    }
   ],
   "source": [
    "\"\"\"\n",
    "Exercise 3: Ask the user to input the year, make, model, and color of\n",
    "their car, and print a nicely formatted statement like “2018 Blue Chevrolet\n",
    "Silverado.”\n",
    "\"\"\" \n",
    "year  = input(\"Enter the car manufacture year:\")\n",
    "make  = input(\"Enter the make of the car:\")\n",
    "model = input(\" Enter the model of the car:\")\n",
    "color = input(\"Enter the color of the car:\")\n",
    "\n",
    "print(f\"{int(year)} {color.title()} {make.title()} {model.title()}\")"
   ]
  },
  {
   "cell_type": "markdown",
   "metadata": {},
   "source": [
    "# IF Statements"
   ]
  },
  {
   "cell_type": "code",
   "execution_count": 12,
   "metadata": {},
   "outputs": [
    {
     "name": "stdout",
     "output_type": "stream",
     "text": [
      " x is less than y \n"
     ]
    }
   ],
   "source": [
    "# using an if statement to only run code if the condition is met\n",
    "x,y = 5,10\n",
    "if x < y:\n",
    "    print(\" x is less than y \") #print will only run if condition is met"
   ]
  },
  {
   "cell_type": "code",
   "execution_count": 13,
   "metadata": {},
   "outputs": [
    {
     "name": "stdout",
     "output_type": "stream",
     "text": [
      "what is 5+5?10\n",
      " You got it right\n"
     ]
    }
   ],
   "source": [
    "# checking user input\n",
    "ans = int(input(\"what is 5+5?\"))\n",
    "if ans == 10:\n",
    "    print(\" You got it right\")"
   ]
  },
  {
   "cell_type": "code",
   "execution_count": 15,
   "metadata": {},
   "outputs": [
    {
     "name": "stdout",
     "output_type": "stream",
     "text": [
      "Both statements are correct\n"
     ]
    }
   ],
   "source": [
    "# using the keyword 'and' in an 'if statement' (both statements needs to be true)\n",
    "x,y,z = 5,10,5\n",
    "if x < y and x==z:\n",
    "    print(\"Both statements are correct\")"
   ]
  },
  {
   "cell_type": "code",
   "execution_count": 16,
   "metadata": {},
   "outputs": [
    {
     "name": "stdout",
     "output_type": "stream",
     "text": [
      "One or both statements were true\n"
     ]
    }
   ],
   "source": [
    "# using the keyword 'or' in an 'if statement' (one needs to be true)\n",
    "x,y,z = 5,10,5\n",
    "if x < y or x != z:\n",
    "    print(\"One or both statements were true\")"
   ]
  },
  {
   "cell_type": "code",
   "execution_count": 17,
   "metadata": {},
   "outputs": [
    {
     "name": "stdout",
     "output_type": "stream",
     "text": [
      "Flag is False\n"
     ]
    }
   ],
   "source": [
    "# using the keyword 'not' withing an 'if statement'\n",
    "flag =False\n",
    "if not flag:    # same as saying if not True\n",
    "    print(\"Flag is False\")"
   ]
  },
  {
   "cell_type": "code",
   "execution_count": 18,
   "metadata": {},
   "outputs": [
    {
     "name": "stdout",
     "output_type": "stream",
     "text": [
      " Baseball contains the character b\n"
     ]
    }
   ],
   "source": [
    "# Membership operator : using the keyword 'in' within an 'if statement'\n",
    "word = \" Baseball\"\n",
    "if \"b\" in word:\n",
    "    print(\"{} contains the character b\".format(word))"
   ]
  },
  {
   "cell_type": "code",
   "execution_count": 19,
   "metadata": {},
   "outputs": [
    {
     "name": "stdout",
     "output_type": "stream",
     "text": [
      "Baseball does not contain the character x\n"
     ]
    }
   ],
   "source": [
    "# using the keyword ' not in' within an 'if statement'\n",
    "word= \"Baseball\"\n",
    "if 'x' not in word:\n",
    "    print(\"{} does not contain the character x\".format(word))"
   ]
  },
  {
   "cell_type": "code",
   "execution_count": 21,
   "metadata": {},
   "outputs": [
    {
     "name": "stdout",
     "output_type": "stream",
     "text": [
      "Enter your name:Prathmesh\n",
      " Prathmesh has es\n"
     ]
    }
   ],
   "source": [
    "\"\"\"\n",
    "Exercise 4: Ask the user for input, and check to see if what\n",
    "they wrote includes an “es”.\n",
    "\"\"\" \n",
    "statement = input(\"Enter your name:\") \n",
    "if 'es' in statement:\n",
    "    print(\" {} has es\".format(statement) )\n"
   ]
  },
  {
   "cell_type": "code",
   "execution_count": 5,
   "metadata": {},
   "outputs": [
    {
     "name": "stdout",
     "output_type": "stream",
     "text": [
      "enter a word running\n",
      "running has ing\n"
     ]
    }
   ],
   "source": [
    "\"\"\"\n",
    "Exercise 5: Ask the user for input, and check to see if what\n",
    "they wrote has an “ing” at the end. Hint: Use slicing.\n",
    "\"\"\"\n",
    "statement = input('enter a word ')\n",
    "if \"ing\" in statement[-3:]:\n",
    "    print(\"{} has ing\".format(statement))"
   ]
  },
  {
   "cell_type": "code",
   "execution_count": 6,
   "metadata": {},
   "outputs": [
    {
     "name": "stdout",
     "output_type": "stream",
     "text": [
      "Enter first wordflag\n",
      "Enter second wordFLAG\n",
      "They are the same\n"
     ]
    }
   ],
   "source": [
    "\"\"\"\n",
    "Exercise 6:Ask the user to input two words, and write a conditional\n",
    "statement to check if both words are the same. Make it case insensitive so that\n",
    "capitals do not matter.\n",
    "\"\"\"\n",
    "fl = input(\"Enter first word\")\n",
    "sl = input(\"Enter second word\")\n",
    "if fl.lower() == sl.lower() :\n",
    "    print(\"They are the same\")"
   ]
  },
  {
   "cell_type": "code",
   "execution_count": 15,
   "metadata": {},
   "outputs": [
    {
     "name": "stdout",
     "output_type": "stream",
     "text": [
      "Enter a number5\n",
      "5 and its square 25\n"
     ]
    }
   ],
   "source": [
    "\"\"\"\n",
    "Exercise 7:Ask for the user to input a number, and return that\n",
    "number squared if it is lower than 10. Hint: Investigate arithmetic expressions\n",
    "for exponents.\n",
    "\"\"\"\n",
    "a =int( input(\"Enter a number\"))\n",
    "b =a*a\n",
    "if a < 10 :\n",
    "     print(\"{} and its square {}\".format(a,b))\n"
   ]
  },
  {
   "cell_type": "markdown",
   "metadata": {},
   "source": [
    "# ELIF Statements"
   ]
  },
  {
   "cell_type": "code",
   "execution_count": 16,
   "metadata": {},
   "outputs": [
    {
     "name": "stdout",
     "output_type": "stream",
     "text": [
      "x is lesser than y\n"
     ]
    }
   ],
   "source": [
    "# using the elif condition statement\n",
    "x, y = 5, 10\n",
    "if x > y:\n",
    "    print(\"x is greater than y\")\n",
    "elif x < y:\n",
    "    print(\"x is lesser than y\") "
   ]
  },
  {
   "cell_type": "code",
   "execution_count": 17,
   "metadata": {},
   "outputs": [
    {
     "name": "stdout",
     "output_type": "stream",
     "text": [
      "x is equal to y\n"
     ]
    }
   ],
   "source": [
    "# using the elif condition statement multiple times\n",
    "x, y = 5, 10\n",
    "if x > y:\n",
    "    print(\"x is greater than y\")\n",
    "elif (x+10) < y:\n",
    "    print(\"x is lesser than y\") \n",
    "elif (x + 5) == y:\n",
    "    print(\"x is equal to y\")"
   ]
  },
  {
   "cell_type": "code",
   "execution_count": 18,
   "metadata": {},
   "outputs": [
    {
     "name": "stdout",
     "output_type": "stream",
     "text": [
      "x is equal to z\n"
     ]
    }
   ],
   "source": [
    "# writing multiple conditions with each other - multiple block levels\n",
    "x, y, z = 5, 10, 5\n",
    "if x > y:\n",
    "    print(\"Greater\")\n",
    "elif x <= y:\n",
    "    if x == z:\n",
    "        print(\"x is equal to z\")\n",
    "    elif x != z:\n",
    "        print(\"x is not equal to z\")"
   ]
  },
  {
   "cell_type": "code",
   "execution_count": 24,
   "metadata": {},
   "outputs": [
    {
     "name": "stdout",
     "output_type": "stream",
     "text": [
      "Enter a number: 6969\n",
      "6969 is greater than 100\n"
     ]
    }
   ],
   "source": [
    "\"\"\"\n",
    "Exercise 8: Ask the user to input a number. Type convert that number, and\n",
    "use an if/elif statement to print whether it’s higher or lower than 100.\n",
    "\"\"\"\n",
    "a = int(input(\"Enter a number: \"))\n",
    "if a < 100:\n",
    "    print(\"{} is less than 100\".format(a))\n",
    "elif a > 100:\n",
    "    print(\"{} is greater than 100\".format(a))\n",
    "elif a == 100:\n",
    "    print(\"{} is equal to 100\".format(a))"
   ]
  },
  {
   "cell_type": "markdown",
   "metadata": {},
   "source": [
    "# Else statement"
   ]
  },
  {
   "cell_type": "code",
   "execution_count": 25,
   "metadata": {},
   "outputs": [
    {
     "name": "stdout",
     "output_type": "stream",
     "text": [
      " Hello Hrishkesh!\n"
     ]
    }
   ],
   "source": [
    "# using an else statement\n",
    "name = \"Hrishikesh\"\n",
    "if name == \"Hrishikesh\":\n",
    "    print(\" Hello Hrishkesh!\")\n",
    "else:\n",
    "     print(\" Hello {}! \".format(name))"
   ]
  },
  {
   "cell_type": "code",
   "execution_count": 27,
   "metadata": {},
   "outputs": [
    {
     "name": "stdout",
     "output_type": "stream",
     "text": [
      "Enter a name: Hrishikesh\n",
      "Name starts with a H\n"
     ]
    }
   ],
   "source": [
    "# writing a  full condition statement with if, elif,else\n",
    "name = input(\"Enter a name: \")\n",
    "name=name.title()\n",
    "if name[0] == \"A\":\n",
    "    print(\"Name starts with an A\")\n",
    "elif name[0] == \"B\":\n",
    "    print(\"Name starts with a B\")\n",
    "elif name[0] == \"J\":\n",
    "    print(\"Name starts with a J\")\n",
    "else:\n",
    "    print(\"Name starts with a {}\".format(name[0]))"
   ]
  },
  {
   "cell_type": "code",
   "execution_count": 32,
   "metadata": {},
   "outputs": [
    {
     "name": "stdout",
     "output_type": "stream",
     "text": [
      "Enter time in Military Format: 2021\n",
      "Good Evening\n"
     ]
    }
   ],
   "source": [
    "\"\"\"\n",
    "Exercise 9:Ask the user to input the time of day in military time without a\n",
    "colon (1100 = 11:00 AM). Write a conditional statement so that it outputs the\n",
    "following:\n",
    "a. “Good Morning” if less than 1200\n",
    "b. “Good Afternoon” if between 1200 and 1700\n",
    "c. “Good Evening” if equal or above 1700\n",
    "\"\"\"\n",
    "time = int(input(\"Enter time in Military Format: \"))\n",
    "if time < 1200 :\n",
    "    print(\"Good Morning\")\n",
    "elif time >= 1200 and time < 1700:\n",
    "    print(\"Good Afternoon\")\n",
    "else:\n",
    "    print(\"Good Evening\")"
   ]
  },
  {
   "cell_type": "markdown",
   "metadata": {},
   "source": [
    "# Project : Creating a Calculator"
   ]
  },
  {
   "cell_type": "code",
   "execution_count": null,
   "metadata": {},
   "outputs": [],
   "source": [
    "\"\"\"\n",
    "Statement:\n",
    "1. Ask the user for the calculation they would like to perform.\n",
    "2. Ask the user for the numbers they would like to run the operation\n",
    "on.\n",
    "3. Set up try/except clause for mathematical operation.\n",
    "a. Convert numbers input to floats.\n",
    "b. Perform operation and print result.\n",
    "c. If an exception is hit, print error.\n",
    "\"\"\""
   ]
  },
  {
   "cell_type": "code",
   "execution_count": 50,
   "metadata": {},
   "outputs": [
    {
     "name": "stdout",
     "output_type": "stream",
     "text": [
      "Would you like to add/substract/multiply/divide ?multiply\n",
      "Enter first number: 69\n",
      "Enter second number: 100\n",
      "First number : 69\n",
      "Second number : 100\n",
      "69.0 * 100.0 = 6900.0\n"
     ]
    }
   ],
   "source": [
    "#step 1 : ask user for calculation to be performed\n",
    "operation = input(\"Would you like to add/substract/multiply/divide ?\").lower()\n",
    "# step 2 : ask for numbers t obe operated on\n",
    "if operation == \"substract\" or operation == \"divide\":\n",
    "    print(\"You chose {}.\".format(operation))\n",
    "    print(\"Please keep in mind that the order of your number matters\")\n",
    "num1 = input(\"Enter first number: \")\n",
    "num2 = input(\"Enter second number: \")\n",
    "print(\"First number : {}\".format(num1))\n",
    "print(\"Second number : {}\".format(num2))\n",
    "# step 3: setup try/except for mathematical operationns\n",
    "try:\n",
    "    #step 3a: immediately convert numbers to float\n",
    "    num1, num2 = float(num1), float(num2)\n",
    "    #step 3b: perform operation and print result\n",
    "    if operation == \"add\":\n",
    "        result = num1 + num2\n",
    "        print(f\"{num1} + {num2} = {result}\")\n",
    "    elif operation == \"substract\":\n",
    "        result = num1 - num2\n",
    "        print(f\"{num1} - {num2} = {result}\")\n",
    "    elif operation == \"multiply\":\n",
    "        result = num1 * num2\n",
    "        print(f\"{num1} * {num2} = {result}\")\n",
    "    elif operation == \"divide\":\n",
    "        result = num1 / num2\n",
    "        print(f\"{num1} / {num2} = {result}\")\n",
    "    else:\n",
    "        #else will be hit if they dont choose option correctly\n",
    "        print(\"Sorry, but '{}' is not an option.\".format(operation))\n",
    "except:\n",
    "    #step 3c: print error\n",
    "    print(\"Error: Improper numbers used. Please try again.\")"
   ]
  }
 ],
 "metadata": {
  "kernelspec": {
   "display_name": "Python 3",
   "language": "python",
   "name": "python3"
  },
  "language_info": {
   "codemirror_mode": {
    "name": "ipython",
    "version": 3
   },
   "file_extension": ".py",
   "mimetype": "text/x-python",
   "name": "python",
   "nbconvert_exporter": "python",
   "pygments_lexer": "ipython3",
   "version": "3.8.5"
  }
 },
 "nbformat": 4,
 "nbformat_minor": 4
}
