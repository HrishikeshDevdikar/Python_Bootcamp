{
 "cells": [
  {
   "cell_type": "markdown",
   "metadata": {},
   "source": [
    "# Creating and Instantiating a Class"
   ]
  },
  {
   "cell_type": "code",
   "execution_count": 1,
   "metadata": {},
   "outputs": [],
   "source": [
    "# creating your first class:\n",
    "class Car():\n",
    "    pass  #simply using a placeholder until we add more code"
   ]
  },
  {
   "cell_type": "code",
   "execution_count": 2,
   "metadata": {},
   "outputs": [
    {
     "name": "stdout",
     "output_type": "stream",
     "text": [
      "<__main__.Car object at 0x0000018A823DDF70>\n"
     ]
    }
   ],
   "source": [
    "# creating your first class:\n",
    "class Car():          #Parenthesis are optional here\n",
    "    pass  #simply using a placeholder until we add more code\n",
    "ford = Car()  #creates an instance of the Car class and stores in Variable Ford\n",
    "print(ford)"
   ]
  },
  {
   "cell_type": "code",
   "execution_count": 3,
   "metadata": {},
   "outputs": [
    {
     "name": "stdout",
     "output_type": "stream",
     "text": [
      "105900147119\n",
      "105900144098\n"
     ]
    }
   ],
   "source": [
    "# creating your first class:\n",
    "class Car():          #Parenthesis are optional here\n",
    "    pass  #simply using a placeholder until we add more code\n",
    "ford = Car()#creates an instance of the Car class and stores in Variable Ford\n",
    "subaru = Car()\n",
    "print(hash(ford))\n",
    "print(hash(subaru)) \n",
    "# hash outputs a numberical representation of the location in memory for the variable"
   ]
  },
  {
   "cell_type": "code",
   "execution_count": 7,
   "metadata": {},
   "outputs": [
    {
     "name": "stdout",
     "output_type": "stream",
     "text": [
      "105900149785\n",
      "105900149824\n"
     ]
    }
   ],
   "source": [
    "\"\"\"\n",
    "Exercise: Create a class called “Animals,” and create two instances from it. Use\n",
    "two variables with names of “lion” and “tiger.”\n",
    "\"\"\"\n",
    "class Animals:\n",
    "    pass\n",
    "lion = Animals()\n",
    "tiger = Animals()\n",
    "print(hash(lion))\n",
    "print(hash(tiger))"
   ]
  },
  {
   "cell_type": "markdown",
   "metadata": {},
   "source": [
    "# Attributes"
   ]
  },
  {
   "cell_type": "code",
   "execution_count": 1,
   "metadata": {},
   "outputs": [
    {
     "name": "stdout",
     "output_type": "stream",
     "text": [
      "red\n"
     ]
    }
   ],
   "source": [
    "# how to define a class attribute\n",
    "class Car():\n",
    "    sound = \"Beep\" #all car objects will have this attribute and value\n",
    "    color = \"red\"  #all car objects will have this color attribute and value\n",
    "ford = Car()\n",
    "print(ford.color)  #known as dot syntax\n",
    "# attributes are onlyavailable within classes they are defined, so in order to access an attribute, you must\n",
    "#create an instance"
   ]
  },
  {
   "cell_type": "code",
   "execution_count": 3,
   "metadata": {},
   "outputs": [
    {
     "name": "stdout",
     "output_type": "stream",
     "text": [
      "Beep\n",
      "Honk\n"
     ]
    }
   ],
   "source": [
    "#changing the value of an attribute\n",
    "class Car():\n",
    "    sound = \"Beep\"\n",
    "    color = \"red\" \n",
    "ford = Car()\n",
    "print(ford.sound)\n",
    "ford.sound = \"Honk\"\n",
    "print(ford.sound)"
   ]
  },
  {
   "cell_type": "code",
   "execution_count": 4,
   "metadata": {},
   "outputs": [
    {
     "name": "stdout",
     "output_type": "stream",
     "text": [
      "blue\n"
     ]
    }
   ],
   "source": [
    "# using the init method to give instances personalized attributes upon creadtion\n",
    "class Car():\n",
    "    def __init__(self,color):\n",
    "        self.color = color     #sets the attribute color to the value passed\n",
    "ford = Car(\"blue\")  #instantiating a car class  with color Blue\n",
    "print(ford.color)"
   ]
  },
  {
   "cell_type": "code",
   "execution_count": 6,
   "metadata": {},
   "outputs": [
    {
     "name": "stdout",
     "output_type": "stream",
     "text": [
      "Blue 2021\n",
      "Red 2020\n"
     ]
    }
   ],
   "source": [
    "#defining different values for multiple instances\n",
    "class Car():\n",
    "    def __init__(self,color,year):\n",
    "        self.color = color\n",
    "        self.year = year\n",
    "ford =Car(\"Blue\",2021)\n",
    "subaru = Car(\"Red\",2020)\n",
    "print(ford.color,ford.year)\n",
    "print(subaru.color,subaru.year)"
   ]
  },
  {
   "cell_type": "code",
   "execution_count": 7,
   "metadata": {},
   "outputs": [
    {
     "name": "stdout",
     "output_type": "stream",
     "text": [
      "beep\n",
      "beep blue\n"
     ]
    }
   ],
   "source": [
    "# using and accessing global class attributes\n",
    "\n",
    "class Car():\n",
    "    sound = 'beep'  # global attribute, accessible through the class itself\n",
    "    \n",
    "    def __init__(self, color):\n",
    "        self.color = 'blue'   # instance specific attribute, not accessible through the class itself\n",
    "        \n",
    "print(Car.sound)\n",
    "\n",
    "# print(Car.color)  will not work, as color is only available to instances of the Car class, not the class itself\n",
    "\n",
    "ford = Car('blue')\n",
    "\n",
    "print(ford.sound, ford.color)   # color will work as this is an instance"
   ]
  },
  {
   "cell_type": "code",
   "execution_count": 10,
   "metadata": {},
   "outputs": [
    {
     "name": "stdout",
     "output_type": "stream",
     "text": [
      "Canine\n",
      "Sammi Husky\n",
      "Casey Chocolate Lab\n"
     ]
    }
   ],
   "source": [
    "\"\"\"\n",
    "Exercise: Create a Dog class that has one global attribute and two instance level\n",
    "attributes. The global attribute should be “species” with a value of “Canine.”\n",
    "The two instance attributes should be “name” and “breed.” Then instantiate\n",
    "two dog objects, a Husky named Sammi and a Chocolate Lab named Casey\n",
    "\"\"\"\n",
    "class Dogs():\n",
    "    species = 'Canine'\n",
    "    def __init__(self,name,breed):\n",
    "        self.name = name\n",
    "        self.breed =breed\n",
    "dog1 = Dogs('Sammi',\"Husky\")\n",
    "dog2 = Dogs('Casey','Chocolate Lab')\n",
    "print(Dogs.species)\n",
    "print(dog1.name,dog1.breed)\n",
    "print(dog2.name,dog2.breed)"
   ]
  },
  {
   "cell_type": "code",
   "execution_count": 14,
   "metadata": {},
   "outputs": [
    {
     "name": "stdout",
     "output_type": "stream",
     "text": [
      "Enter Your Name Please: Hrishikesh\n",
      "Hrishikesh\n"
     ]
    }
   ],
   "source": [
    "\"\"\"\n",
    "Exercise: Create a Person class that has a single instance level attribute of\n",
    "“name.” Ask the user to input their name, and create an instance of the Person\n",
    "class with the name they typed in. Then print out their name.\n",
    "\"\"\"\n",
    "class Person():\n",
    "    def __init__(self,name):\n",
    "         self.name =name\n",
    "name = input(\"Enter Your Name Please: \")\n",
    "p1 = Person(name)\n",
    "print(p1.name)"
   ]
  },
  {
   "cell_type": "markdown",
   "metadata": {},
   "source": [
    "# Methods"
   ]
  },
  {
   "cell_type": "code",
   "execution_count": 15,
   "metadata": {},
   "outputs": [
    {
     "name": "stdout",
     "output_type": "stream",
     "text": [
      "bark\n"
     ]
    }
   ],
   "source": [
    "# defining and calling out first class method\n",
    "class Dog():\n",
    "    def makeSound(self):\n",
    "        print(\"bark\")\n",
    "sam = Dog()\n",
    "sam.makeSound()"
   ]
  },
  {
   "cell_type": "code",
   "execution_count": 2,
   "metadata": {},
   "outputs": [
    {
     "name": "stdout",
     "output_type": "stream",
     "text": [
      "Bark\n"
     ]
    }
   ],
   "source": [
    "#using the self keyword to access attributes within class methods\n",
    "class Dog():\n",
    "    sound = 'Bark'\n",
    "    def makeSound(self):\n",
    "        print(self.sound)  #self required to access attributes defined in class\n",
    "sam = Dog()\n",
    "sam.makeSound()"
   ]
  },
  {
   "cell_type": "code",
   "execution_count": 4,
   "metadata": {},
   "outputs": [
    {
     "name": "stdout",
     "output_type": "stream",
     "text": [
      "I am a Dog\n",
      "bark\n"
     ]
    }
   ],
   "source": [
    "# understanding which methods are accessible via the class itself and class instances\n",
    "class Dog():\n",
    "    sound = \"bark\"\n",
    "    def makeSound(self):\n",
    "        print(self.sound)\n",
    "    def printInfo():\n",
    "        print(\"I am a Dog\")\n",
    "Dog.printInfo() #able to run printInfo as self is not its parameter\n",
    "# Dog.makeSound() #would produce an error as self is in reference to instances only\n",
    "sam = Dog()\n",
    "sam.makeSound()\n",
    "#sam.printInfo() will produce error as instances require self as parameter"
   ]
  },
  {
   "cell_type": "code",
   "execution_count": 5,
   "metadata": {},
   "outputs": [
    {
     "name": "stdout",
     "output_type": "stream",
     "text": [
      "6\n"
     ]
    }
   ],
   "source": [
    "# writing methods that accept parameters\n",
    "class Dog():\n",
    "    def showAge(self,age):\n",
    "        print(age)   #does not need self, age is referencing the parameter not an attribute\n",
    "sam = Dog()\n",
    "sam.showAge(6) # passing the int 6 as an argument to showAge method\n"
   ]
  },
  {
   "cell_type": "code",
   "execution_count": 6,
   "metadata": {},
   "outputs": [
    {
     "name": "stdout",
     "output_type": "stream",
     "text": [
      "Noburu Wataya\n"
     ]
    }
   ],
   "source": [
    "# using methods to set or return attribute values, proper programming practice\n",
    "class Dog():\n",
    "    name = \" \" #would normally use the init method to declare, this is for testing purpose\n",
    "    def setName(self,new_name):\n",
    "        self.name = new_name #declares the new value for the name attribute\n",
    "    def getName(self):\n",
    "        return self.name  #returns the value of the name attribute\n",
    "sam = Dog()\n",
    "sam.setName(\"Noburu Wataya\")\n",
    "print(sam.getName())"
   ]
  },
  {
   "cell_type": "code",
   "execution_count": 9,
   "metadata": {},
   "outputs": [
    {
     "name": "stdout",
     "output_type": "stream",
     "text": [
      "5\n",
      "6\n"
     ]
    }
   ],
   "source": [
    "# incrementing/decrementing attribute values with method, best programming practice\n",
    "class Dog():\n",
    "    age =5\n",
    "    def happyBday(self):\n",
    "        self.age += 1\n",
    "sam = Dog()\n",
    "print(sam.age)\n",
    "sam.happyBday() #calls method to increment value by one\n",
    "print(sam.age)"
   ]
  },
  {
   "cell_type": "code",
   "execution_count": 10,
   "metadata": {},
   "outputs": [
    {
     "name": "stdout",
     "output_type": "stream",
     "text": [
      "Doggo is just a Kid\n"
     ]
    }
   ],
   "source": [
    "# calling a class method from another method\n",
    "class Dog():\n",
    "    age = 6\n",
    "    def getAge(self):\n",
    "        return self.age\n",
    "    def printInfo(self):\n",
    "        if self.getAge() < 10: #need self to call other method for an instance\n",
    "            print(\"Doggo is just a Kid\")\n",
    "sam = Dog()\n",
    "sam.printInfo()"
   ]
  },
  {
   "cell_type": "code",
   "execution_count": 11,
   "metadata": {},
   "outputs": [
    {
     "name": "stdout",
     "output_type": "stream",
     "text": [
      "This is a Dog class\n"
     ]
    }
   ],
   "source": [
    "# using magic methods\n",
    "class Dog():\n",
    "    def __str__(self):\n",
    "        return \"This is a Dog class\"\n",
    "sam = Dog()\n",
    "print(sam) # will print the return of string magic method"
   ]
  },
  {
   "cell_type": "code",
   "execution_count": 19,
   "metadata": {},
   "outputs": [
    {
     "data": {
      "text/plain": [
       "'Feline'"
      ]
     },
     "execution_count": 19,
     "metadata": {},
     "output_type": "execute_result"
    }
   ],
   "source": [
    "\"\"\"\n",
    "Exercise :Create a class definition of an animal that has a species attribute and\n",
    "both a setter and getter to change or access the attributes value. Create an\n",
    "instance called “lion,” and call the setter method with an argument of “feline.”\n",
    "Then print out the species by calling the getter method \n",
    "\"\"\"\n",
    "class Animal():\n",
    "    def __init__(self):\n",
    "        species = ''\n",
    "        \n",
    "    def setSpecies(self, species):\n",
    "        self.species = species\n",
    "        \n",
    "    def getSpecies(self):\n",
    "        return self.species\n",
    "    \n",
    "lion = Animal()\n",
    "\n",
    "lion.setSpecies('Feline')\n",
    "\n",
    "lion.getSpecies()\n",
    "        "
   ]
  },
  {
   "cell_type": "code",
   "execution_count": 20,
   "metadata": {},
   "outputs": [
    {
     "name": "stdout",
     "output_type": "stream",
     "text": [
      "How old are you? 64\n",
      "You are 64 years old.\n"
     ]
    }
   ],
   "source": [
    "\"\"\"\n",
    "Exercise: Create a class Person that takes in a name when instantiated but\n",
    "sets an age to 0. Within the class definition setup, a setter and getter that will\n",
    "ask the user to input their age and set the age attribute to the value input.\n",
    "Then output the information in a formatted string as “You are 64 years old.”\n",
    "Assuming the user inputs 64 as their age.\n",
    "\"\"\"\n",
    "class Person():\n",
    "    def __init__(self, name):\n",
    "        self.name = name\n",
    "        self.age = 0\n",
    "        \n",
    "    def setAge(self, age):\n",
    "        self.age = age\n",
    "        \n",
    "    def getAge(self):\n",
    "        return self.age\n",
    "    \n",
    "p = Person('Kathy')\n",
    "\n",
    "num = input('How old are you? ')\n",
    "\n",
    "p.setAge(num)\n",
    "\n",
    "print('You are {} years old.'.format(p.getAge()))\n"
   ]
  },
  {
   "cell_type": "markdown",
   "metadata": {},
   "source": [
    "# Inheritance"
   ]
  },
  {
   "cell_type": "code",
   "execution_count": 1,
   "metadata": {},
   "outputs": [
    {
     "name": "stdout",
     "output_type": "stream",
     "text": [
      "Roar\n"
     ]
    }
   ],
   "source": [
    "# inheriting a class and accessing the inherited method\n",
    "class Animal():\n",
    "    def makeSound(self):\n",
    "        print(\"Roar\")\n",
    "class Dog(Animal):   #inheriting animal class\n",
    "    species = \"Canine\"\n",
    "sam = Dog()\n",
    "sam.makeSound()\n",
    "lion = Animal()\n",
    "\n",
    "        "
   ]
  },
  {
   "cell_type": "code",
   "execution_count": 2,
   "metadata": {},
   "outputs": [
    {
     "name": "stdout",
     "output_type": "stream",
     "text": [
      "Canine\n"
     ]
    }
   ],
   "source": [
    "#using the super() method to declare inherited attributes\n",
    "class Animal():\n",
    "    def __init__(self,species):\n",
    "        self.species = species\n",
    "class Dog(Animal):\n",
    "    def __init__(self, species, name):\n",
    "        self.name = name\n",
    "        super().__init__(species)  #using super to declare the species attribute defined in animal\n",
    "\n",
    "sam = Dog(\"Canine\",\"Sammi\")\n",
    "print(sam.species)"
   ]
  },
  {
   "cell_type": "code",
   "execution_count": 3,
   "metadata": {},
   "outputs": [
    {
     "name": "stdout",
     "output_type": "stream",
     "text": [
      "bark\n",
      "roar\n"
     ]
    }
   ],
   "source": [
    "# overriding methods defined in the superclass\n",
    "class Animal():\n",
    "    def makeSound(self):\n",
    "        print(\"roar\")\n",
    "class Dog(Animal):\n",
    "    def makeSound(self):\n",
    "        print(\"bark\")\n",
    "sam , lion = Dog(), Animal()  #multiple declaration on single line\n",
    "sam.makeSound()\n",
    "lion.makeSound()"
   ]
  },
  {
   "cell_type": "code",
   "execution_count": 4,
   "metadata": {},
   "outputs": [
    {
     "name": "stdout",
     "output_type": "stream",
     "text": [
      "9.8 Ford\n"
     ]
    }
   ],
   "source": [
    "# Inheriting multiple classes\n",
    "class Physics():\n",
    "    gravity = 9.8\n",
    "class Automobile():\n",
    "    def __init__(self, make, model,year):\n",
    "        self.make,self.model,self.year = make,model,year\n",
    "class Ford (Physics,Automobile):\n",
    "    def __init__(self,model,year):\n",
    "        Automobile.__init__(self,\"Ford\",model,year)\n",
    "truck = Ford(\"F-150\",2018)\n",
    "print(truck.gravity, truck.make)"
   ]
  },
  {
   "cell_type": "code",
   "execution_count": 5,
   "metadata": {},
   "outputs": [
    {
     "name": "stdout",
     "output_type": "stream",
     "text": [
      "Hello, my name is Max and I'm on the good guys.\n",
      "Hello, my name is Tony and I'm on the bad guys.\n"
     ]
    }
   ],
   "source": [
    "\"\"\"\n",
    "Execise:Good Guys/Bad Guys: Create three classes, a superclass called “Characters”\n",
    "that will be defined with the following attributes and methods:\n",
    "a. Attributes: name, team, height, weight\n",
    "b. Methods: sayHello\n",
    "The sayHello method should output the statement “Hello, my name is Max and\n",
    "I’m on the good guys”. The team attribute should be declared to a string of\n",
    "either “good” or “bad.” The other two classes, which will be subclasses, will\n",
    "be “GoodPlayers” and “BadPlayers.” Both classes will inherit “Characters” and\n",
    "super all the attributes that the superclass requires. The subclasses do not need\n",
    "any other methods or attributes. Instantiate one player on each team, and call\n",
    "the sayHello method for each. The output should result in the following:\n",
    " >>> \"Hello, my name is Max and I'm on the good guys\"\n",
    " >>> \"Hello, my name is Tony and I'm on the bad guys\"\n",
    "\"\"\"\n",
    "class Characters():\n",
    "    def __init__(self, name, team, height, weight):\n",
    "        self.name = name\n",
    "        self.team = team\n",
    "        self.height = height\n",
    "        self.weight = weight\n",
    "    def sayHello(self):\n",
    "        print(\"Hello, my name is {} and I'm on the {} guys.\".format(self.name, self.team))\n",
    "class Good(Characters):\n",
    "    def __init__(self, name, height, weight):\n",
    "        super().__init__(name, 'good', height, weight)\n",
    "        \n",
    "class Bad(Characters):\n",
    "    def __init__(self, name, height, weight):\n",
    "        super().__init__(name, 'bad', height, weight)\n",
    "        \n",
    "char1 = Good('Max', '5\\'11\"', 183)\n",
    "char2 = Bad('Tony', '6\\'3\"', 201)\n",
    "\n",
    "char1.sayHello()\n",
    "char2.sayHello()"
   ]
  },
  {
   "cell_type": "markdown",
   "metadata": {},
   "source": [
    "# Project : BlackJack\n"
   ]
  },
  {
   "cell_type": "code",
   "execution_count": null,
   "metadata": {},
   "outputs": [
    {
     "name": "stdout",
     "output_type": "stream",
     "text": [
      "\n",
      "Jackal\n",
      "==========\n",
      "2 of Spades\n",
      "10 of Spades\n",
      "9 of Clubs\n",
      "Total = 21\n",
      "\n",
      "Dealer\n",
      "==========\n",
      "3 of Spades\n",
      "10 of Clubs\n",
      "8 of Clubs\n",
      "Total = 21\n",
      "You pushed, no one wins!\n",
      "Type \"quit\" to stop playing...\n"
     ]
    }
   ],
   "source": [
    "# importing necessary functions\n",
    "from random import randint\n",
    "from IPython.display import clear_output\n",
    "\n",
    "#create the blackjack class, which will hold all game method and attributes\n",
    "class Blackjack():\n",
    "    def __init__(self):\n",
    "        self.deck = []    #empty list\n",
    "        self.suits = (\"Spades\",\"Hearts\",\"Diamonds\",\"Clubs\")\n",
    "        self.values=(2,3,4,5,6,7,8,9,10,\"J\",\"Q\",\"K\",\"A\")\n",
    "        \n",
    "#create method that creates a deck of 52 cards,each card should be a tuple with a value and suit\n",
    "    def makeDeck(self):\n",
    "        for suits in self.suits:\n",
    "            for value in self.values:\n",
    "                self.deck.append((value,suits))\n",
    "#method to pop a card from deck using a random index value\n",
    "    def pullCard(self):\n",
    "        return self.deck.pop(randint(0,len(self.deck) - 1))\n",
    "#create a class for the dealer and player objects\n",
    "class Player():\n",
    "    def __init__(self, name):\n",
    "        self.name = name\n",
    "        self.hand = []\n",
    "    def addCard(self,card):\n",
    "        self.hand.append(card)\n",
    "# if not dealers's turn then only show one of his cards, otehrwise show all\n",
    "    def showHand(self,dealer_start = True):\n",
    "        print(f\"\\n{self.name}\")\n",
    "        print(\"==========\")\n",
    "        for i in range(len(self.hand)):\n",
    "            if self.name == \"Dealer\" and i == 0 and dealer_start:\n",
    "                print(\"- of -\")#hide first card\n",
    "            else:\n",
    "                card =self.hand[i]\n",
    "                print(f\"{card[0]} of {card[1]}\")\n",
    "        print(\"Total = {}\".format(self.calcHand(dealer_start)))\n",
    "# if not dealer's turn them only give back total of second card\n",
    "    def calcHand(self, dealer_start = True):\n",
    "        total = 0\n",
    "        aces = 0 #calculate aces afterwards\n",
    "        card_values = {1:1,2:2,3:3,4:4,5:5,6:6,7:7,8:8,9:9,10:10, \"J\":10,\"Q\":10,\"K\":10,\"A\":11}\n",
    "        if self.name == \"Dealer\" and dealer_start:\n",
    "            card = self.hand[1]\n",
    "            return card_values[card[0]]\n",
    "        for card in self.hand:\n",
    "            if card[0] == \"A\":\n",
    "                aces += 1\n",
    "            else:\n",
    "                total += card_values[card[0]]\n",
    "        for i in range(aces):\n",
    "            if total + 11 > 21:\n",
    "                total +=1\n",
    "            else : \n",
    "                total += 11\n",
    "        return total\n",
    "            \n",
    "game = Blackjack()\n",
    "game.makeDeck()\n",
    "\n",
    "name = input(\"What is your name?\")\n",
    "playing = True\n",
    "while playing:\n",
    "    player = Player(name)\n",
    "    dealer = Player(\"Dealer\")\n",
    "    #add two cards to the dealer and player hand\n",
    "    for i in range(2):\n",
    "        player.addCard(game.pullCard())\n",
    "        dealer.addCard(game.pullCard())\n",
    "\n",
    "    player.showHand()\n",
    "    dealer.showHand()\n",
    "\n",
    "    player_bust = False #variable to keep track of player going over 21\n",
    "    while input(\"Would you like to stay or hit?\").lower() != \"stay\":\n",
    "        clear_output()\n",
    "        #pull card and put into player's hand\n",
    "        player.addCard(game.pullCard())\n",
    "        #show both hands using method\n",
    "        player.showHand()\n",
    "        dealer.showHand()\n",
    "        # check if over 21\n",
    "        if player.calcHand() > 21:\n",
    "            player_bust = True    # player busted, keep track for later\n",
    "            print(\"You Lose!\")\n",
    "            break\n",
    "    #handling the dealer's turn, only if the player did'nt bust\n",
    "    dealer_bust = False\n",
    "    if not player_bust:\n",
    "        while dealer.calcHand(False) < 17 :\n",
    "            #pull card and put into player's hand\n",
    "            dealer.addCard(game.pullCard())\n",
    "            #check if over 21\n",
    "            if dealer.calcHand(False) > 21:\n",
    "                dealer_bust = True\n",
    "                print(\"You win!\")\n",
    "                break\n",
    "\n",
    "    clear_output()\n",
    "\n",
    "    # show both hands using method\n",
    "    player.showHand()\n",
    "    dealer.showHand(False)\n",
    "\n",
    "    # calculate a winner\n",
    "    if player_bust:\n",
    "        print('You busted, better luck next time!')\n",
    "    elif dealer_bust:\n",
    "        print('The dealer busted, you win!')\n",
    "    elif dealer.calcHand(False) > player.calcHand():\n",
    "        print('Dealer has higher cards, you lose!')\n",
    "    elif dealer.calcHand(False) < player.calcHand():\n",
    "        print('You beat the dealer! Congrats!')\n",
    "    else:\n",
    "        print('You pushed, no one wins!')\n",
    "        \n",
    "    print('Type \"quit\" to stop playing...')\n",
    "    ans = input('Would you like to play again? ').lower()\n",
    "    \n",
    "    if ans == 'quit':\n",
    "        playing = False\n",
    "        \n",
    "    clear_output()"
   ]
  }
 ],
 "metadata": {
  "kernelspec": {
   "display_name": "Python 3",
   "language": "python",
   "name": "python3"
  },
  "language_info": {
   "codemirror_mode": {
    "name": "ipython",
    "version": 3
   },
   "file_extension": ".py",
   "mimetype": "text/x-python",
   "name": "python",
   "nbconvert_exporter": "python",
   "pygments_lexer": "ipython3",
   "version": "3.8.5"
  }
 },
 "nbformat": 4,
 "nbformat_minor": 4
}
