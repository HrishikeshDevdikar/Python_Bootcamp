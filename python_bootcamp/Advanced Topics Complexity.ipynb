{
 "cells": [
  {
   "cell_type": "markdown",
   "metadata": {},
   "source": [
    "# Generator and Iterators"
   ]
  },
  {
   "cell_type": "code",
   "execution_count": 2,
   "metadata": {},
   "outputs": [
    {
     "name": "stdout",
     "output_type": "stream",
     "text": [
      "Chess\n",
      "Football\n",
      "Tennis\n",
      "Basketball\n"
     ]
    }
   ],
   "source": [
    "# create a basic iterator from iterable\n",
    "sports = [\"Chess\",\"Football\",\"Tennis\",\"Basketball\"]\n",
    "my_iter = iter(sports)\n",
    "print(next(my_iter)) #outputs first item\n",
    "print(next(my_iter))\n",
    "for item in my_iter:\n",
    "    print(item)\n",
    "# print(next(my_iter))  #will produce error"
   ]
  },
  {
   "cell_type": "code",
   "execution_count": 3,
   "metadata": {},
   "outputs": [
    {
     "name": "stdout",
     "output_type": "stream",
     "text": [
      "a\n",
      "b\n",
      "c\n",
      "d\n",
      "e\n",
      "f\n",
      "g\n",
      "h\n",
      "i\n",
      "j\n",
      "k\n",
      "l\n",
      "m\n",
      "n\n",
      "o\n",
      "p\n",
      "q\n",
      "r\n",
      "s\n",
      "t\n",
      "u\n",
      "v\n",
      "w\n",
      "x\n",
      "y\n",
      "z\n"
     ]
    }
   ],
   "source": [
    "# creating our own iterator\n",
    "class Alphabet():\n",
    "    def __iter__(self):\n",
    "        self.letters = \"abcdefghijklmnopqrstuvwxyz\"\n",
    "        self.index = 0\n",
    "        return self\n",
    "    def __next__(self):\n",
    "        if self.index <= 25:\n",
    "            char = self.letters[self.index]\n",
    "            self.index += 1\n",
    "            return char\n",
    "        else:\n",
    "            raise StopIteration\n",
    "for char in Alphabet():\n",
    "    print(char)"
   ]
  },
  {
   "cell_type": "code",
   "execution_count": 4,
   "metadata": {},
   "outputs": [
    {
     "name": "stdout",
     "output_type": "stream",
     "text": [
      "Generator start value: 0\n",
      "For loop X Value: 0\n",
      "Generator start value: 1\n",
      "For loop X Value: 1\n",
      "Generator start value: 2\n",
      "For loop X Value: 2\n",
      "Generator start value: 3\n",
      "For loop X Value: 3\n",
      "Generator start value: 4\n",
      "For loop X Value: 4\n"
     ]
    }
   ],
   "source": [
    "# creating our own range generator with start, stop, and step parameter\n",
    "def myRange(stop,start = 0, step = 1 ):\n",
    "    while start < stop:\n",
    "        print(\"Generator start value: {}\".format(start))\n",
    "        yield start\n",
    "        start += step #increment start, otherwise infinite loop\n",
    "for x in myRange(5):\n",
    "    print(\"For loop X Value: {}\".format(x))"
   ]
  },
  {
   "cell_type": "code",
   "execution_count": 5,
   "metadata": {},
   "outputs": [
    {
     "name": "stdout",
     "output_type": "stream",
     "text": [
      "5\n",
      "4\n",
      "3\n",
      "2\n",
      "1\n"
     ]
    }
   ],
   "source": [
    "\"\"\"\n",
    "Exercise : Create an iterator that takes in a list, and when iterated over,\n",
    "it returns the information in a reverse order. Hint: When accepting arguments\n",
    "into an iterator, you need to use the init method, as well as iter and next. The\n",
    "following call should result in “5, 4, 3, 2, 1”.\n",
    ">>> for i in RevIter( [ 1, 2, 3, 4, 5 ] ):\n",
    "\"\"\"\n",
    "class ReverseIter():\n",
    "    def __init__(self, items):\n",
    "        self.items = items\n",
    "        self.i = len(items) - 1\n",
    "    \n",
    "    def __iter__(self):\n",
    "        return self\n",
    "    \n",
    "    def __next__(self):\n",
    "        if self.i >= 0:\n",
    "            item = self.items[self.i]\n",
    "            self.i -= 1\n",
    "            return item\n",
    "        else:\n",
    "            raise StopIteration\n",
    "            \n",
    "rev_iter = ReverseIter([1, 2, 3, 4, 5])\n",
    "\n",
    "\n",
    "for num in rev_iter:\n",
    "    print(num)"
   ]
  },
  {
   "cell_type": "code",
   "execution_count": 13,
   "metadata": {},
   "outputs": [
    {
     "name": "stdout",
     "output_type": "stream",
     "text": [
      "0\n",
      "1\n",
      "4\n",
      "9\n",
      "16\n"
     ]
    }
   ],
   "source": [
    "\"\"\"\n",
    "Exercise: Create a generator that acts like the range function, except it\n",
    "yields a squared number every time. The result of the following call should\n",
    "be “0, 1, 4, 16”\n",
    "\"\"\"\n",
    "def squared(n):\n",
    "    for i in range(n + 1):\n",
    "        yield i**2\n",
    "        \n",
    "for x in squared(4):\n",
    "    print(x)\n",
    "    "
   ]
  },
  {
   "cell_type": "markdown",
   "metadata": {},
   "source": [
    "# Decorator"
   ]
  },
  {
   "cell_type": "code",
   "execution_count": 14,
   "metadata": {},
   "outputs": [
    {
     "name": "stdout",
     "output_type": "stream",
     "text": [
      "=====\n",
      "John Cena!\n",
      "=====\n"
     ]
    }
   ],
   "source": [
    "# creating and applying our own decorator using the @symbol\n",
    "def decorator(func):\n",
    "    def wrap():\n",
    "        print(\"=====\")\n",
    "        func()\n",
    "        print(\"=====\")\n",
    "    return wrap\n",
    "@decorator \n",
    "def printName():\n",
    "    print(\"John Cena!\")\n",
    "printName()"
   ]
  },
  {
   "cell_type": "code",
   "execution_count": 15,
   "metadata": {},
   "outputs": [
    {
     "name": "stdout",
     "output_type": "stream",
     "text": [
      "Hello\n",
      "Hello\n",
      "Hello\n",
      "Hello\n"
     ]
    }
   ],
   "source": [
    "# creating a decorator that takes in parameters\n",
    "def run_times(num):\n",
    "    def wrap(func):\n",
    "        for i in range(num):\n",
    "            func()\n",
    "    return wrap\n",
    "@run_times(4)\n",
    "def sayHello():\n",
    "    print(\"Hello\")"
   ]
  },
  {
   "cell_type": "code",
   "execution_count": 16,
   "metadata": {},
   "outputs": [
    {
     "name": "stdout",
     "output_type": "stream",
     "text": [
      "Happy Birthday Chicken Little, you are 50.\n"
     ]
    }
   ],
   "source": [
    "# creating a decorator for a function that accepts paramters\n",
    "def birthday(func):\n",
    "    def wrap(name,age):\n",
    "        func(name,age + 1)\n",
    "    return wrap\n",
    "@birthday\n",
    "def celebrate(name,age):\n",
    "    print(\"Happy Birthday {}, you are {}.\".format(name,age))\n",
    "celebrate(\"Chicken Little\", 49)"
   ]
  },
  {
   "cell_type": "code",
   "execution_count": 17,
   "metadata": {},
   "outputs": [
    {
     "name": "stdout",
     "output_type": "stream",
     "text": [
      "What is the password?polpol\n",
      "Access Granter, welcome John\n"
     ]
    }
   ],
   "source": [
    "# real world sim, restricting function access\n",
    "def login_required(func):\n",
    "    def wrap(user):\n",
    "        password = input(\"What is the password?\")\n",
    "        if password == user[\"password\"]:\n",
    "            func(user)\n",
    "        else:\n",
    "            print(\"Access Denied\")\n",
    "    return wrap\n",
    "@login_required\n",
    "def restrictedUser(user):\n",
    "    print(\"Access Granter, welcome {}\".format(user[\"name\"]))\n",
    "user = {\"name\": \"John\", \"password\": \"polpol\"}\n",
    "restrictedUser(user)"
   ]
  },
  {
   "cell_type": "code",
   "execution_count": 26,
   "metadata": {},
   "outputs": [
    {
     "name": "stdout",
     "output_type": "stream",
     "text": [
      "Enter a number - 69\n",
      "Less than 100\n"
     ]
    }
   ],
   "source": [
    "\"\"\"\n",
    "Exercise: Create a decorator that will ask the user for a number, and run\n",
    "the function it is attached to only if the number is less than 100. The function\n",
    "should simply output “Less than 100”.\n",
    "\"\"\"\n",
    "def deco(func):\n",
    "    def wrap():\n",
    "        ask = int(input(\"Enter a number - \"))\n",
    "        if ask < 100:\n",
    "            func()\n",
    "    return wrap\n",
    "@deco\n",
    "def numbers():\n",
    "    print(\"Less than 100\")\n",
    "numbers()"
   ]
  },
  {
   "cell_type": "code",
   "execution_count": 24,
   "metadata": {},
   "outputs": [
    {
     "name": "stdout",
     "output_type": "stream",
     "text": [
      "/index\n",
      "This is how web pages are made in Flask\n"
     ]
    }
   ],
   "source": [
    "\"\"\"\n",
    "Exercise : : Create a decorator that takes in a string as an argument with\n",
    "a wrap function that takes in func. Have the wrap function print out the string,\n",
    "and run the function passed in. The function passed in doesn’t need to do\n",
    "anything\n",
    "\"\"\"\n",
    "def deco(stringy):\n",
    "    def wrap(func):\n",
    "        print(stringy)\n",
    "        func()\n",
    "    return wrap\n",
    "@deco(\"/index\")\n",
    "def index():\n",
    "    print(\"This is how web pages are made in Flask\")"
   ]
  },
  {
   "cell_type": "markdown",
   "metadata": {},
   "source": [
    "# Modules"
   ]
  },
  {
   "cell_type": "code",
   "execution_count": 27,
   "metadata": {},
   "outputs": [
    {
     "name": "stdout",
     "output_type": "stream",
     "text": [
      "2\n",
      "3\n",
      "3.141592653589793\n"
     ]
    }
   ],
   "source": [
    "# import the entire math module\n",
    "import math\n",
    "print(math.floor(2.5))  #rounds down\n",
    "print(math.ceil(2.5))   #rounds up\n",
    "print(math.pi)"
   ]
  },
  {
   "cell_type": "code",
   "execution_count": 28,
   "metadata": {},
   "outputs": [
    {
     "name": "stdout",
     "output_type": "stream",
     "text": [
      "6\n",
      "3.141592653589793\n"
     ]
    }
   ],
   "source": [
    "# importing only variables and functions specifically \n",
    "from math import floor,pi\n",
    "print(floor(6.9))\n",
    "print(pi)"
   ]
  },
  {
   "cell_type": "code",
   "execution_count": 29,
   "metadata": {},
   "outputs": [
    {
     "name": "stdout",
     "output_type": "stream",
     "text": [
      "2\n"
     ]
    }
   ],
   "source": [
    "# using the 'as' keyword create an alias for inputs\n",
    "from math import floor as f\n",
    "print(f(2.5))"
   ]
  },
  {
   "cell_type": "code",
   "execution_count": 32,
   "metadata": {},
   "outputs": [
    {
     "name": "stdout",
     "output_type": "stream",
     "text": [
      "5 10\n",
      "Your Name Is John Cena and Your Age is 40\n"
     ]
    }
   ],
   "source": [
    "# using the run command with jupyter notebook to access our own modules\n",
    "%run t.py\n",
    "print(length,width)\n",
    "printInfo(\"John Cena\", 40)"
   ]
  },
  {
   "cell_type": "code",
   "execution_count": 33,
   "metadata": {},
   "outputs": [
    {
     "name": "stdout",
     "output_type": "stream",
     "text": [
      "Time module imported\n"
     ]
    }
   ],
   "source": [
    "from time import sleep\n",
    "sleep(5)\n",
    "print(\"Time module imported\")"
   ]
  },
  {
   "cell_type": "markdown",
   "metadata": {},
   "source": [
    "# Understanding Algorithmic Complexity"
   ]
  },
  {
   "cell_type": "code",
   "execution_count": 34,
   "metadata": {},
   "outputs": [],
   "source": [
    "# creating data collection to test for time complexity\n",
    "import time\n",
    "d = {}\n",
    "for i in range(10000000):\n",
    "    d[i] = \"value\"\n",
    "big_list = [x for x in range(10000000)] #generate a fake list"
   ]
  },
  {
   "cell_type": "code",
   "execution_count": 36,
   "metadata": {},
   "outputs": [
    {
     "name": "stdout",
     "output_type": "stream",
     "text": [
      "Found in dictionary\n",
      "Elaspsed time for dictionary: 0.0009992122650146484\n",
      "Found in dictionary\n",
      "Elaspsed time for list: 0.3078014850616455\n"
     ]
    }
   ],
   "source": [
    "#retrieving information and tracking time to see which is faster\n",
    "start_time = time.time()  #tracking time for dictionary\n",
    "if 9999999 in d:\n",
    "    print(\"Found in dictionary\")\n",
    "end_time = time.time() - start_time\n",
    "print(f\"Elaspsed time for dictionary: {end_time}\")\n",
    "\n",
    "start_time = time.time()\n",
    "if 9999999 in big_list:\n",
    "    print(\"Found in dictionary\")\n",
    "end_time = time.time() - start_time\n",
    "print(f\"Elaspsed time for list: {end_time}\") "
   ]
  },
  {
   "cell_type": "code",
   "execution_count": 37,
   "metadata": {},
   "outputs": [],
   "source": [
    "#testing bubble sort vs insertion sort\n",
    "def bubbleSort(aList):\n",
    "    for i in range(len(aList)):\n",
    "        switched = False\n",
    "        for j in range(len(aList)-1):\n",
    "            if aList[j] > aList[j+1]:\n",
    "                aList[j],aList[j+1] = aList[j+1],aList[j]\n",
    "                switched = True\n",
    "        if switched == False : \n",
    "            break\n",
    "    return aList\n",
    "\n",
    "def insertionSort(aList):\n",
    "    for i in range(1, len(aList)):\n",
    "        if aList[i] < aList[i-1]:\n",
    "            for j in range(i,0,-1):\n",
    "                if aList[j] < aList[j-1]:\n",
    "                    aList[j],aList[j+1] = aList[j+1], aList[j]\n",
    "                else:\n",
    "                    break\n",
    "    return aList"
   ]
  },
  {
   "cell_type": "code",
   "execution_count": 38,
   "metadata": {},
   "outputs": [
    {
     "name": "stdout",
     "output_type": "stream",
     "text": [
      "Elaspsed time for bubbleSort: 9.162233352661133\n",
      "Elaspsed time for insertionSort: 0.0\n"
     ]
    }
   ],
   "source": [
    "#calling bubble sort and insertion sort to test time complexity\n",
    "from random import randint\n",
    "nums = [randint(0,100) for x in range(5000)]\n",
    "\n",
    "start_time = time.time()\n",
    "bubbleSort(nums)\n",
    "end_time = time.time() - start_time\n",
    "print(f\"Elaspsed time for bubbleSort: {end_time}\")\n",
    "\n",
    "start_time = time.time()\n",
    "insertionSort(nums)\n",
    "end_time = time.time() - start_time\n",
    "print(f\"Elaspsed time for insertionSort: {end_time}\")"
   ]
  },
  {
   "cell_type": "code",
   "execution_count": 39,
   "metadata": {},
   "outputs": [
    {
     "name": "stdout",
     "output_type": "stream",
     "text": [
      "# of items in list: 10000000 \t\t # of guesses: 0\n",
      "# of items in list: 5000000 \t\t # of guesses: 1\n",
      "# of items in list: 2500000 \t\t # of guesses: 2\n",
      "# of items in list: 1250000 \t\t # of guesses: 3\n",
      "# of items in list: 625000 \t\t # of guesses: 4\n",
      "# of items in list: 312500 \t\t # of guesses: 5\n",
      "# of items in list: 156250 \t\t # of guesses: 6\n",
      "# of items in list: 78125 \t\t # of guesses: 7\n",
      "# of items in list: 39062 \t\t # of guesses: 8\n",
      "# of items in list: 19531 \t\t # of guesses: 9\n",
      "# of items in list: 9765 \t\t # of guesses: 10\n",
      "# of items in list: 4882 \t\t # of guesses: 11\n",
      "# of items in list: 2441 \t\t # of guesses: 12\n",
      "# of items in list: 1220 \t\t # of guesses: 13\n",
      "# of items in list: 610 \t\t # of guesses: 14\n",
      "# of items in list: 305 \t\t # of guesses: 15\n",
      "# of items in list: 152 \t\t # of guesses: 16\n",
      "# of items in list: 76 \t\t # of guesses: 17\n",
      "# of items in list: 38 \t\t # of guesses: 18\n",
      "# of items in list: 19 \t\t # of guesses: 19\n",
      "# of items in list: 9 \t\t # of guesses: 20\n",
      "# of items in list: 4 \t\t # of guesses: 21\n",
      "# of items in list: 2 \t\t # of guesses: 22\n",
      "# of items in list: 1 \t\t # of guesses: 23\n"
     ]
    },
    {
     "data": {
      "text/plain": [
       "True"
      ]
     },
     "execution_count": 39,
     "metadata": {},
     "output_type": "execute_result"
    }
   ],
   "source": [
    "\"\"\"\n",
    "Exercise : What is the max number of guesses\n",
    "it would take for a Binary Search to \n",
    "find a number within a list of 10 million numbers?\n",
    "\"\"\"\n",
    "nums = [x for x in range(10000000)]\n",
    "\n",
    "def binarySearch(aList, num):\n",
    "    guesses = 0\n",
    "    \n",
    "    while aList:\n",
    "        print(\"# of items in list: {} \\t\\t # of guesses: {}\".format(len(aList), guesses))\n",
    "        guesses += 1\n",
    "        \n",
    "        mid = len(aList) // 2\n",
    "\n",
    "        if aList[mid] == num:\n",
    "            return True\n",
    "        elif aList[mid] > num:\n",
    "            aList = aList[ : mid ]\n",
    "        elif aList[mid] < num:\n",
    "            aList = aList[ mid + 1 : ]\n",
    "    \n",
    "    return False\n",
    "\n",
    "binarySearch(nums, 0)"
   ]
  },
  {
   "cell_type": "code",
   "execution_count": null,
   "metadata": {},
   "outputs": [],
   "source": []
  }
 ],
 "metadata": {
  "kernelspec": {
   "display_name": "Python 3",
   "language": "python",
   "name": "python3"
  },
  "language_info": {
   "codemirror_mode": {
    "name": "ipython",
    "version": 3
   },
   "file_extension": ".py",
   "mimetype": "text/x-python",
   "name": "python",
   "nbconvert_exporter": "python",
   "pygments_lexer": "ipython3",
   "version": "3.8.5"
  }
 },
 "nbformat": 4,
 "nbformat_minor": 4
}
