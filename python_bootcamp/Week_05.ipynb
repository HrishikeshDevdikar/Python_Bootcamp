{
 "cells": [
  {
   "cell_type": "markdown",
   "metadata": {},
   "source": [
    "# Creating and Calling Funtions"
   ]
  },
  {
   "cell_type": "code",
   "execution_count": 1,
   "metadata": {},
   "outputs": [
    {
     "name": "stdout",
     "output_type": "stream",
     "text": [
      "Name: Hrishikesh Devdikar\n",
      "Age: 22\n",
      "Name: Hrishikesh Devdikar\n",
      "Age: 22\n"
     ]
    }
   ],
   "source": [
    "# writing  first function\n",
    "def printInfo():         #defines what the function does when called\n",
    "    print(\"Name: Hrishikesh Devdikar\")\n",
    "    print(\"Age: 22\")\n",
    "printInfo()              #calls the function to run\n",
    "printInfo()              #calls the function again"
   ]
  },
  {
   "cell_type": "code",
   "execution_count": 2,
   "metadata": {},
   "outputs": [
    {
     "name": "stdout",
     "output_type": "stream",
     "text": [
      "15\n"
     ]
    }
   ],
   "source": [
    "# performing a calculation in a function\n",
    "def calc():\n",
    "    x,y =5,10\n",
    "    print(x+y)\n",
    "calc()      # will run the block of code within calc and output 15"
   ]
  },
  {
   "cell_type": "code",
   "execution_count": 3,
   "metadata": {},
   "outputs": [
    {
     "name": "stdout",
     "output_type": "stream",
     "text": [
      "Name: Hrishikesh Devdikar\n"
     ]
    }
   ],
   "source": [
    "\"\"\"\n",
    "Exercise 1:Define a function called myName, and have it print out your name\n",
    "when called.\n",
    "\n",
    "\"\"\"\n",
    "def myName():\n",
    "    print(\"Name: Hrishikesh Devdikar\")\n",
    "myName()"
   ]
  },
  {
   "cell_type": "code",
   "execution_count": 4,
   "metadata": {},
   "outputs": [
    {
     "name": "stdout",
     "output_type": "stream",
     "text": [
      "1. Chesse  2.Oregano   3.Chilli Flakes  4.Peperoni\n",
      "1. Chesse  2.Oregano   3.Chilli Flakes  4.Peperoni\n",
      "1. Chesse  2.Oregano   3.Chilli Flakes  4.Peperoni\n"
     ]
    }
   ],
   "source": [
    "\"\"\"\n",
    "Exercise 2:: Define a function that prints out all your favorite pizza toppings\n",
    "called pizzaToppings. Call the function three times.\n",
    "\"\"\"\n",
    "def pizzaToppings():\n",
    "    print(\"1. Chesse  2.Oregano   3.Chilli Flakes  4.Peperoni\")\n",
    "for i in range(3):\n",
    "    pizzaToppings()"
   ]
  },
  {
   "cell_type": "markdown",
   "metadata": {},
   "source": [
    "# Parameters"
   ]
  },
  {
   "cell_type": "code",
   "execution_count": 5,
   "metadata": {},
   "outputs": [
    {
     "name": "stdout",
     "output_type": "stream",
     "text": [
      "Your name is: Hrishikesh Devdikar\n",
      "Your name is: Prathmesh Devdikar\n"
     ]
    }
   ],
   "source": [
    "# passing a single parameter into a function\n",
    "def printName(full_name):\n",
    "    print(f\"Your name is: {full_name}\")\n",
    "printName(\"Hrishikesh Devdikar\")\n",
    "printName(\"Prathmesh Devdikar\")"
   ]
  },
  {
   "cell_type": "code",
   "execution_count": 6,
   "metadata": {},
   "outputs": [
    {
     "name": "stdout",
     "output_type": "stream",
     "text": [
      "5 + 8 = 13\n",
      "3.5 + 5.5 = 9.0\n"
     ]
    }
   ],
   "source": [
    "# passing multiple parameters into a function\n",
    "def addNums(num1,num2):\n",
    "    result = num1 + num2\n",
    "    print(f\"{num1} + {num2} = {result}\")\n",
    "addNums(5,8)\n",
    "addNums(3.5,5.50)"
   ]
  },
  {
   "cell_type": "code",
   "execution_count": 7,
   "metadata": {},
   "outputs": [
    {
     "name": "stdout",
     "output_type": "stream",
     "text": [
      "4\n",
      "16\n",
      "25\n",
      "100\n",
      "1\n",
      "9\n",
      "36\n"
     ]
    }
   ],
   "source": [
    "# using a function to square all information\n",
    "num1=[2,4,5,10]\n",
    "num2=[1,3,6]\n",
    "def squares(nums):\n",
    "    for num in nums:\n",
    "        print(num**2)\n",
    "squares(num1)\n",
    "squares(num2)"
   ]
  },
  {
   "cell_type": "code",
   "execution_count": 8,
   "metadata": {},
   "outputs": [
    {
     "name": "stdout",
     "output_type": "stream",
     "text": [
      "Area of the circle: 12.56\n"
     ]
    }
   ],
   "source": [
    "#setting default paramter values\n",
    "def calArea(r, pi=3.14):\n",
    "    area = pi * (r**2)\n",
    "    print(\"Area of the circle: {}\".format(area))\n",
    "calArea(2)\n",
    "#default parameters should always go after non-default parameters"
   ]
  },
  {
   "cell_type": "code",
   "execution_count": 11,
   "metadata": {},
   "outputs": [
    {
     "name": "stdout",
     "output_type": "stream",
     "text": [
      "Albert Einstein\n",
      "Subhash Chandra Bose\n"
     ]
    }
   ],
   "source": [
    "#setting default parameter values(optional)\n",
    "def printName(first,last,middle=\"\"):\n",
    "    if middle:\n",
    "        print(f\"{first} {middle} {last}\")\n",
    "    else:\n",
    "        print(f\"{first} {last}\")\n",
    "printName(\"Albert\", \"Einstein\")\n",
    "printName(\"Subhash\" ,\"Bose\",\"Chandra\" )"
   ]
  },
  {
   "cell_type": "code",
   "execution_count": 14,
   "metadata": {},
   "outputs": [
    {
     "name": "stdout",
     "output_type": "stream",
     "text": [
      "2.5\n",
      "5\n"
     ]
    }
   ],
   "source": [
    "# explicitly assigning values to parameters by referencing the name\n",
    "def addNums(num1,num2):\n",
    "    print(num2)\n",
    "    print(num1)\n",
    "addNums(5,num2 = 2.5)"
   ]
  },
  {
   "cell_type": "code",
   "execution_count": 2,
   "metadata": {},
   "outputs": [
    {
     "name": "stdout",
     "output_type": "stream",
     "text": [
      "Hrishikesh Devdikar\n",
      "<class 'tuple'>\n",
      "5\n",
      "True\n",
      "Hello World\n"
     ]
    }
   ],
   "source": [
    "# using args parameter to take in a tuple of arbitary values\n",
    "def outputData(name, *args):\n",
    "    print(name)\n",
    "    print(type(args))\n",
    "    for arg in args:\n",
    "        print(arg)\n",
    "outputData(\"Hrishikesh Devdikar\", 5, True, \"Hello World\")"
   ]
  },
  {
   "cell_type": "code",
   "execution_count": 4,
   "metadata": {},
   "outputs": [
    {
     "name": "stdout",
     "output_type": "stream",
     "text": [
      "<class 'dict'>\n",
      "Hrishikesh Devdikar\n",
      "5\n"
     ]
    }
   ],
   "source": [
    "# using kwargs parameter to take in a dictionary of arbitary values\n",
    "def outputData(**kwargs):\n",
    "    print(type(kwargs))\n",
    "    print(kwargs[\"name\"])\n",
    "    print(kwargs[\"num\"])\n",
    "outputData(name = \"Hrishikesh Devdikar\", num = 5, b=True)"
   ]
  },
  {
   "cell_type": "code",
   "execution_count": 9,
   "metadata": {},
   "outputs": [
    {
     "name": "stdout",
     "output_type": "stream",
     "text": [
      "Enter a word: Ikigai\n",
      "Ikigai\n",
      "True\n"
     ]
    }
   ],
   "source": [
    "\"\"\"\n",
    "Exercise 3:Ask the user to input a word, and pass that word into a function\n",
    "that checks if the word starts with an uppercase. If it does output “True”,\n",
    "otherwise “False”\n",
    "\"\"\"\n",
    "def verify(ask):\n",
    "    print(ask)\n",
    "    if ask == ask.title():\n",
    "        print(\"True\")\n",
    "    else:\n",
    "        print(\"False\")\n",
    "    \n",
    "ask = input(\"Enter a word: \")\n",
    "verify(ask)"
   ]
  },
  {
   "cell_type": "code",
   "execution_count": 4,
   "metadata": {},
   "outputs": [
    {
     "name": "stdout",
     "output_type": "stream",
     "text": [
      "Harry Hole\n"
     ]
    }
   ],
   "source": [
    "\"\"\"\n",
    "Exercise 4:Define a function that takes in two arguments, first_name and last_\n",
    "name, and makes both optional. If no values are passed into the parameters, it\n",
    "should output “No name passed in”; otherwise, it should print out the name.\n",
    "\"\"\"\n",
    "def optName(first_name=\"\",last_name=\"\"):\n",
    "    if first_name and last_name:\n",
    "        print(first_name,last_name)\n",
    "    else:\n",
    "        print(\"No name passed in.\")\n",
    "optName(\"Harry\",\"Hole\")\n",
    "        "
   ]
  },
  {
   "cell_type": "markdown",
   "metadata": {},
   "source": [
    "# Return Statement"
   ]
  },
  {
   "cell_type": "code",
   "execution_count": 5,
   "metadata": {},
   "outputs": [
    {
     "name": "stdout",
     "output_type": "stream",
     "text": [
      "10.0\n",
      "20\n"
     ]
    }
   ],
   "source": [
    "#using return keyword to return the sum of two numbers\n",
    "def addNums(num1,num2):\n",
    "    return num1 + num2\n",
    "num=addNums(5.5,4.5)        #saves returned value into num\n",
    "print(num)\n",
    "print(addNums(10,10))       #does'nt save the return value "
   ]
  },
  {
   "cell_type": "code",
   "execution_count": 6,
   "metadata": {},
   "outputs": [
    {
     "name": "stdout",
     "output_type": "stream",
     "text": [
      "True\n"
     ]
    }
   ],
   "source": [
    "# shortcut syntax using a ternary operator\n",
    "def searchList(aList, el):\n",
    "    return True if el in aList else False\n",
    "result = searchList([\"one\",2,\"three\"], 2)\n",
    "print(result)"
   ]
  },
  {
   "cell_type": "code",
   "execution_count": 9,
   "metadata": {},
   "outputs": [
    {
     "name": "stdout",
     "output_type": "stream",
     "text": [
      "HrishikeshDevdikar\n"
     ]
    }
   ],
   "source": [
    "\"\"\"\n",
    "Exercise 5:Create a function that takes in a first and last name and returns the\n",
    "two names joined together.\n",
    "\"\"\"\n",
    "def name(first_name,last_name):\n",
    "    return first_name + last_name\n",
    "out=name(\"Hrishikesh\",\"Devdikar\")\n",
    "print(out)"
   ]
  },
  {
   "cell_type": "code",
   "execution_count": 12,
   "metadata": {},
   "outputs": [
    {
     "name": "stdout",
     "output_type": "stream",
     "text": [
      "Enter user Input: Beyond Infinity We Go!!\n",
      "Beyond Infinity We Go!!\n"
     ]
    }
   ],
   "source": [
    "\"\"\"\n",
    "Exercise 6:Within a function, ask for user input. Have this function return that\n",
    "input to be stored in a variable outside of the function. Then print out the input.\n",
    "\"\"\"\n",
    "def inputer():\n",
    "     return input(\"Enter user Input: \")\n",
    "store = inputer()\n",
    "print(store)"
   ]
  },
  {
   "cell_type": "markdown",
   "metadata": {},
   "source": [
    "# Scope"
   ]
  },
  {
   "cell_type": "code",
   "execution_count": 13,
   "metadata": {},
   "outputs": [
    {
     "ename": "UnboundLocalError",
     "evalue": "local variable 'number' referenced before assignment",
     "output_type": "error",
     "traceback": [
      "\u001b[1;31m---------------------------------------------------------------------------\u001b[0m",
      "\u001b[1;31mUnboundLocalError\u001b[0m                         Traceback (most recent call last)",
      "\u001b[1;32m<ipython-input-13-27b5fe3d52ac>\u001b[0m in \u001b[0;36m<module>\u001b[1;34m\u001b[0m\n\u001b[0;32m      3\u001b[0m \u001b[1;32mdef\u001b[0m \u001b[0mscopeTest\u001b[0m\u001b[1;33m(\u001b[0m\u001b[1;33m)\u001b[0m\u001b[1;33m:\u001b[0m\u001b[1;33m\u001b[0m\u001b[1;33m\u001b[0m\u001b[0m\n\u001b[0;32m      4\u001b[0m     \u001b[0mnumber\u001b[0m \u001b[1;33m+=\u001b[0m \u001b[1;36m1\u001b[0m\u001b[1;33m\u001b[0m\u001b[1;33m\u001b[0m\u001b[0m\n\u001b[1;32m----> 5\u001b[1;33m \u001b[0mscopeTest\u001b[0m\u001b[1;33m(\u001b[0m\u001b[1;33m)\u001b[0m\u001b[1;33m\u001b[0m\u001b[1;33m\u001b[0m\u001b[0m\n\u001b[0m",
      "\u001b[1;32m<ipython-input-13-27b5fe3d52ac>\u001b[0m in \u001b[0;36mscopeTest\u001b[1;34m()\u001b[0m\n\u001b[0;32m      2\u001b[0m \u001b[0mnumber\u001b[0m \u001b[1;33m=\u001b[0m\u001b[1;36m5\u001b[0m\u001b[1;33m\u001b[0m\u001b[1;33m\u001b[0m\u001b[0m\n\u001b[0;32m      3\u001b[0m \u001b[1;32mdef\u001b[0m \u001b[0mscopeTest\u001b[0m\u001b[1;33m(\u001b[0m\u001b[1;33m)\u001b[0m\u001b[1;33m:\u001b[0m\u001b[1;33m\u001b[0m\u001b[1;33m\u001b[0m\u001b[0m\n\u001b[1;32m----> 4\u001b[1;33m     \u001b[0mnumber\u001b[0m \u001b[1;33m+=\u001b[0m \u001b[1;36m1\u001b[0m\u001b[1;33m\u001b[0m\u001b[1;33m\u001b[0m\u001b[0m\n\u001b[0m\u001b[0;32m      5\u001b[0m \u001b[0mscopeTest\u001b[0m\u001b[1;33m(\u001b[0m\u001b[1;33m)\u001b[0m\u001b[1;33m\u001b[0m\u001b[1;33m\u001b[0m\u001b[0m\n",
      "\u001b[1;31mUnboundLocalError\u001b[0m: local variable 'number' referenced before assignment"
     ]
    }
   ],
   "source": [
    "# where global variables can be accessed\n",
    "number =5\n",
    "def scopeTest():\n",
    "    number += 1      #not accessible due to function level scope\n",
    "scopeTest()"
   ]
  },
  {
   "cell_type": "code",
   "execution_count": 14,
   "metadata": {},
   "outputs": [
    {
     "name": "stdout",
     "output_type": "stream",
     "text": [
      "Function Variable\n"
     ]
    }
   ],
   "source": [
    "# accessing variables defined in a function\n",
    "def scopeTest():\n",
    "    word = \"Function Variable\"\n",
    "    return word\n",
    "value =scopeTest()\n",
    "print(value)"
   ]
  },
  {
   "cell_type": "code",
   "execution_count": 15,
   "metadata": {},
   "outputs": [
    {
     "name": "stdout",
     "output_type": "stream",
     "text": [
      "Before Altering: ['Soccer', 'Baseball', 'Chess', 'Tennis']\n",
      "After Altering: ['Hockey', 'Baseball', 'Chess', 'Tennis']\n"
     ]
    }
   ],
   "source": [
    "#changing list items values by index\n",
    "sports=[\"Soccer\",\"Baseball\",\"Chess\",\"Tennis\"]\n",
    "def change(aList):\n",
    "    aList[0] = \"Hockey\"\n",
    "print(\"Before Altering: {}\".format(sports))\n",
    "change(sports)\n",
    "print(\"After Altering: {}\".format(sports))"
   ]
  },
  {
   "cell_type": "code",
   "execution_count": 17,
   "metadata": {},
   "outputs": [
    {
     "name": "stdout",
     "output_type": "stream",
     "text": [
      "Before Altering ['Bob', 'Rich', 'Amanda']\n",
      "After ALtering: ['Bob', 'Bill', 'Amanda']\n"
     ]
    }
   ],
   "source": [
    "\"\"\"\n",
    "Exercise 7: Create a function that will change the list passed in with a parameter\n",
    "of name at a given index. Such that if I were to pass in “Bill” and index 1,\n",
    "it would change “Rich” to “Bill.” Use the list and function definition in the\n",
    "following:\n",
    ">>> names = ['Bob', 'Rich', 'Amanda']\n",
    ">>> def changeValue(aList, name, index):\n",
    "\"\"\"\n",
    "names = ['Bob', 'Rich', 'Amanda']\n",
    "def changeValue(aList, name, index):\n",
    "    aList[index] = name\n",
    "print(f\"Before Altering {names}\")\n",
    "changeValue(names,\"Bill\",1)\n",
    "print(f\"After ALtering: {names}\")"
   ]
  },
  {
   "cell_type": "markdown",
   "metadata": {},
   "source": [
    "# Project : Creating a Shopping Cart"
   ]
  },
  {
   "cell_type": "code",
   "execution_count": 24,
   "metadata": {},
   "outputs": [
    {
     "name": "stdout",
     "output_type": "stream",
     "text": [
      "Here is your cart:\n",
      "- Apple\n",
      "- Banana\n",
      "- Chickoo\n",
      "- Drangonfruit\n"
     ]
    }
   ],
   "source": [
    "# import necessary functions \n",
    "from IPython.display import clear_output\n",
    "\n",
    "#global list variable\n",
    "cart=[]\n",
    "\n",
    "#create function to add items in cart\n",
    "def addItems(item):\n",
    "    clear_output()\n",
    "    cart.append(item)\n",
    "    print(\"{} has been added to cart.\".format(item))\n",
    "    \n",
    "#create function to remove items from cart\n",
    "def removeItems(item):\n",
    "    clear_output()\n",
    "    try:\n",
    "        cart.remove(item)\n",
    "        print(\"{} has been removed.\".format(item))\n",
    "    except:\n",
    "        print(\"We cannot remove that item\")\n",
    "        \n",
    "#create a function to show items in cart\n",
    "def showCart():\n",
    "    clear_output()\n",
    "    if cart:\n",
    "        print(\"Here is your cart:\")\n",
    "        for item in cart:\n",
    "            print(\"- {}\".format(item))\n",
    "    else:\n",
    "        print(\"your cart is empty\")\n",
    "\n",
    "# create function to clear items from cart\n",
    "def clearCart():\n",
    "    clear_output()\n",
    "    cart.clear()\n",
    "    print(\"Your cart is empty\")\n",
    "\n",
    "# create main function that loops wntil the user quits \n",
    "def main():\n",
    "    done = False\n",
    "    while not done:\n",
    "        ans = input(\"add/remove/show/clear/quit : \").lower()\n",
    "        # base case\n",
    "        if ans == \"quit\":\n",
    "            print(\"Thanks for using our program\")\n",
    "            showCart()\n",
    "            done =True\n",
    "        elif ans == \"add\":\n",
    "            item = input(\"What would you like to add?\").title()\n",
    "            addItems(item)\n",
    "        elif ans == \"remove\":\n",
    "            showCart()\n",
    "            item = input(\"What item would you like to remove?\").title()\n",
    "            removeItems(item)\n",
    "        elif ans ==\"show\":\n",
    "            showCart()\n",
    "        elif ans == \"clear\":\n",
    "            clearCart()\n",
    "        else:\n",
    "            print(\"Sorry that was not an option\")\n",
    "main()     # run the program\n",
    "\n"
   ]
  }
 ],
 "metadata": {
  "kernelspec": {
   "display_name": "Python 3",
   "language": "python",
   "name": "python3"
  },
  "language_info": {
   "codemirror_mode": {
    "name": "ipython",
    "version": 3
   },
   "file_extension": ".py",
   "mimetype": "text/x-python",
   "name": "python",
   "nbconvert_exporter": "python",
   "pygments_lexer": "ipython3",
   "version": "3.8.5"
  }
 },
 "nbformat": 4,
 "nbformat_minor": 4
}
