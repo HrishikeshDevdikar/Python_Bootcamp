{
 "cells": [
  {
   "cell_type": "markdown",
   "metadata": {},
   "source": [
    "# Lists"
   ]
  },
  {
   "cell_type": "code",
   "execution_count": 2,
   "metadata": {},
   "outputs": [
    {
     "name": "stdout",
     "output_type": "stream",
     "text": [
      "[5, 10, 15.2, 20]\n"
     ]
    }
   ],
   "source": [
    "# declaring a list of numbers\n",
    "nums = [5,10,15.2,20]\n",
    "print(nums)"
   ]
  },
  {
   "cell_type": "code",
   "execution_count": 3,
   "metadata": {},
   "outputs": [
    {
     "name": "stdout",
     "output_type": "stream",
     "text": [
      "10\n",
      "15.2\n"
     ]
    }
   ],
   "source": [
    "# accessing elements within a list\n",
    "print(nums[1])            # will output the value at index 1 \n",
    "num = nums[2]             # saves index value 2 into num\n",
    "print(num)                # prints value assigned to num"
   ]
  },
  {
   "cell_type": "code",
   "execution_count": 4,
   "metadata": {},
   "outputs": [
    {
     "name": "stdout",
     "output_type": "stream",
     "text": [
      "[4.3, 'word', True]\n"
     ]
    }
   ],
   "source": [
    "# declaring a list of mixed data types\n",
    "num = 4.3\n",
    "data = [num,\"word\",True]   #Various data \n",
    "print(data)"
   ]
  },
  {
   "cell_type": "code",
   "execution_count": 5,
   "metadata": {},
   "outputs": [
    {
     "name": "stdout",
     "output_type": "stream",
     "text": [
      "[5, 'book', [34, 'hello'], True]\n",
      "[34, 'hello']\n"
     ]
    }
   ],
   "source": [
    "# understanding list without lists\n",
    "data = [5,\"book\",[34,\"hello\"],True]    #list can hold any type\n",
    "print(data)\n",
    "print(data[2])"
   ]
  },
  {
   "cell_type": "code",
   "execution_count": 6,
   "metadata": {},
   "outputs": [
    {
     "name": "stdout",
     "output_type": "stream",
     "text": [
      "34\n",
      "hello\n"
     ]
    }
   ],
   "source": [
    "# using double bracket notation to access lists within lists\n",
    "print(data[2][0])      #will output 34 \n",
    "inner_list = data[2]   # inner list \n",
    "print(inner_list[1])"
   ]
  },
  {
   "cell_type": "code",
   "execution_count": 7,
   "metadata": {},
   "outputs": [
    {
     "name": "stdout",
     "output_type": "stream",
     "text": [
      "[5, 10, 15, 20]\n",
      "[100, 10, 15, 20]\n"
     ]
    }
   ],
   "source": [
    "# changing values in a list through index\n",
    "data = [5,10,15,20]\n",
    "print(data)\n",
    "data[0] = 100         #changing values at index 0\n",
    "print(data)"
   ]
  },
  {
   "cell_type": "code",
   "execution_count": 10,
   "metadata": {},
   "outputs": [
    {
     "name": "stdout",
     "output_type": "stream",
     "text": [
      "a: [5, 10]\t b: [5, 10]\n",
      "Location a[0]: 140715556153248\t Location b[0]: 140715556153248\n",
      "a: [20, 10]\t b: [20, 10]\n"
     ]
    }
   ],
   "source": [
    "# understanding how lists are stored\n",
    "a=[5,10]\n",
    "b = a \n",
    "print(\"a: {}\\t b: {}\".format(a,b))\n",
    "print(\"Location a[0]: {}\\t Location b[0]: {}\".format(id(a[0]),id(b[0])))\n",
    "a[0] = 20     #changing value at a[0] also changes value at b[0]\n",
    "print(\"a: {}\\t b: {}\".format(a,b))"
   ]
  },
  {
   "cell_type": "code",
   "execution_count": 11,
   "metadata": {},
   "outputs": [
    {
     "name": "stdout",
     "output_type": "stream",
     "text": [
      "data: [50, 10, 15, 20]\t data_copy: [5, 10, 15, 20]\n"
     ]
    }
   ],
   "source": [
    "# using [:] to copy a list \n",
    "data=[5,10,15,20]\n",
    "data_copy=data[:]     # a single colon copies the list\n",
    "data[0] = 50\n",
    "print(\"data: {}\\t data_copy: {}\".format(data,data_copy))\n"
   ]
  },
  {
   "cell_type": "code",
   "execution_count": 12,
   "metadata": {},
   "outputs": [
    {
     "name": "stdout",
     "output_type": "stream",
     "text": [
      "I like to play Chess.\n"
     ]
    }
   ],
   "source": [
    "\"\"\"\n",
    "Exercise 1: Define a list of strings, where each string is a sport. Then output each\n",
    "sport with the following line “I like to play {}”…\n",
    "\"\"\"\n",
    "sports=[\"Carrom\",\"Football\",\"Cricket\",\"Chess\",\"Tennis\"]\n",
    "print(\"I like to play {}.\".format(sports[3]))"
   ]
  },
  {
   "cell_type": "code",
   "execution_count": 18,
   "metadata": {},
   "outputs": [
    {
     "name": "stdout",
     "output_type": "stream",
     "text": [
      " 'J','A','S','K'\n"
     ]
    }
   ],
   "source": [
    "\"\"\"\n",
    "Exercise 2: For the following list, print out each item’s first letter. (output\n",
    "should be ‘J’, ‘A’, ‘S’, ‘K’)\n",
    "names = [‘John’, ‘Abraham’, ‘Sam’, ‘Kelly’]\n",
    "\"\"\"\n",
    "names = ['John', 'Abraham', 'Sam', 'Kelly']\n",
    "print(\" '{}','{}','{}','{}'\".format(names[0][0],names[1][0],names[2][0],names[3][0],))"
   ]
  },
  {
   "cell_type": "markdown",
   "metadata": {},
   "source": [
    "# For Loops"
   ]
  },
  {
   "cell_type": "code",
   "execution_count": 19,
   "metadata": {},
   "outputs": [
    {
     "name": "stdout",
     "output_type": "stream",
     "text": [
      "Value: 0\n",
      "Value: 1\n",
      "Value: 2\n",
      "Value: 3\n",
      "Value: 4\n"
     ]
    }
   ],
   "source": [
    "# for loop simple code\n",
    "for num in range(5):\n",
    "    print(\"Value: {}\".format(num))"
   ]
  },
  {
   "cell_type": "code",
   "execution_count": 20,
   "metadata": {},
   "outputs": [
    {
     "name": "stdout",
     "output_type": "stream",
     "text": [
      "Value: 2\n",
      "Value: 4\n",
      "Value: 6\n",
      "Value: 8\n"
     ]
    }
   ],
   "source": [
    "# providing start, stop and step for the range function\n",
    "for num in range(2,10,2):\n",
    "     print(\"Value: {}\".format(num)) #will print all evens between 2 and 10"
   ]
  },
  {
   "cell_type": "code",
   "execution_count": 22,
   "metadata": {},
   "outputs": [
    {
     "name": "stdout",
     "output_type": "stream",
     "text": [
      "Value: H\n",
      "Value: r\n",
      "Value: i\n",
      "Value: s\n",
      "Value: h\n",
      "Value: i\n",
      "Value: k\n",
      "Value: e\n",
      "Value: s\n",
      "Value: h\n",
      "Value:  \n",
      "Value: D\n",
      "Value: e\n",
      "Value: v\n",
      "Value: d\n",
      "Value: i\n",
      "Value: k\n",
      "Value: a\n",
      "Value: r\n"
     ]
    }
   ],
   "source": [
    "#printing all characters in a name using the 'in' keyword\n",
    "name = 'Hrishikesh Devdikar'\n",
    "for letter in name:\n",
    "     print(\"Value: {}\".format(letter))"
   ]
  },
  {
   "cell_type": "code",
   "execution_count": 23,
   "metadata": {},
   "outputs": [
    {
     "name": "stdout",
     "output_type": "stream",
     "text": [
      "0\n",
      "1\n",
      "2\n",
      "4\n"
     ]
    }
   ],
   "source": [
    "# using the continue statement within a for loop\n",
    "for num in range(5):\n",
    "    if num == 3:\n",
    "        continue    #goes back to the start of the loop rather than next statement\n",
    "    print(num)"
   ]
  },
  {
   "cell_type": "code",
   "execution_count": 24,
   "metadata": {},
   "outputs": [
    {
     "name": "stdout",
     "output_type": "stream",
     "text": [
      "0\n",
      "1\n",
      "2\n"
     ]
    }
   ],
   "source": [
    "# breaking out of a loop using 'break' statement\n",
    "for num in range(5):\n",
    "    if num==3:\n",
    "        break\n",
    "    print(num)"
   ]
  },
  {
   "cell_type": "code",
   "execution_count": 26,
   "metadata": {},
   "outputs": [],
   "source": [
    "# setting a placeholder using the 'pass' keyword\n",
    "for i in range(5):\n",
    "    # TODO: add code to print number\n",
    "    pass\n",
    "\"\"\"\n",
    "It’s simply there so that we don’t have to write code within the loop just yet. It’s useful\n",
    "for framing out a program.\n",
    "\"\"\""
   ]
  },
  {
   "cell_type": "code",
   "execution_count": 28,
   "metadata": {},
   "outputs": [
    {
     "name": "stdout",
     "output_type": "stream",
     "text": [
      "3\n",
      "6\n",
      "9\n",
      "12\n",
      "15\n",
      "18\n",
      "21\n",
      "24\n",
      "27\n",
      "30\n",
      "33\n",
      "36\n",
      "39\n",
      "42\n",
      "45\n",
      "48\n",
      "51\n",
      "54\n",
      "57\n",
      "60\n",
      "63\n",
      "66\n",
      "69\n",
      "72\n",
      "75\n",
      "78\n",
      "81\n",
      "84\n",
      "87\n",
      "90\n",
      "93\n",
      "96\n",
      "99\n"
     ]
    }
   ],
   "source": [
    "\"\"\"\n",
    "Exercise 3: Write a for loop that prints out all numbers from 1 to 100\n",
    "that are divisible by three.\n",
    "\"\"\"\n",
    "for num in range(3,100,3):\n",
    "    print(num)"
   ]
  },
  {
   "cell_type": "code",
   "execution_count": 32,
   "metadata": {},
   "outputs": [
    {
     "name": "stdout",
     "output_type": "stream",
     "text": [
      "enter a statement:Hello World\n",
      "e\n",
      "o\n"
     ]
    }
   ],
   "source": [
    "\"\"\"\n",
    "Exercise 4:Ask for user input, and write a for loop that will output all the\n",
    "vowels within it. \n",
    "\"\"\"\n",
    "line= input(\"enter a statement:\")\n",
    "for vowels in 'aeiou':\n",
    "    if vowels in line:\n",
    "        print(vowels)"
   ]
  },
  {
   "cell_type": "markdown",
   "metadata": {},
   "source": [
    "# While Loop"
   ]
  },
  {
   "cell_type": "code",
   "execution_count": 34,
   "metadata": {},
   "outputs": [
    {
     "name": "stdout",
     "output_type": "stream",
     "text": [
      "10\n",
      "9\n",
      "8\n",
      "7\n",
      "6\n",
      "5\n",
      "4\n",
      "3\n",
      "2\n",
      "1\n"
     ]
    }
   ],
   "source": [
    "# simple while loop\n",
    "health = 10\n",
    "while health > 0:\n",
    "    print(health)\n",
    "    health -= 1      #forgetting this line will result in infite loop "
   ]
  },
  {
   "cell_type": "code",
   "execution_count": 35,
   "metadata": {},
   "outputs": [
    {
     "name": "stdout",
     "output_type": "stream",
     "text": [
      "0 0\n",
      "0 1\n",
      "0 2\n",
      "1 0\n",
      "1 1\n",
      "1 2\n"
     ]
    }
   ],
   "source": [
    "# using two or more loops together (Nested loops)\n",
    "for i in range(2):\n",
    "    for j in range(3):\n",
    "        print(i,j)"
   ]
  },
  {
   "cell_type": "code",
   "execution_count": 50,
   "metadata": {},
   "outputs": [
    {
     "name": "stdout",
     "output_type": "stream",
     "text": [
      "Enter a word: HARRY\n",
      "Enter a word: POTTER\n",
      "Enter a word: QUIT\n"
     ]
    }
   ],
   "source": [
    "\"\"\"\n",
    "Exercise 5:Write a while loop that continues to ask for user input and runs\n",
    "until they type “quit”\n",
    "\"\"\"\n",
    "\n",
    "keep_going =True\n",
    "while keep_going:\n",
    "    word = input(\"Enter a word: \").lower()\n",
    "    if word == \"quit\":\n",
    "        keep_going =False\n",
    "    else:\n",
    "        keep_going = True\n",
    "        \n"
   ]
  },
  {
   "cell_type": "code",
   "execution_count": 2,
   "metadata": {},
   "outputs": [
    {
     "name": "stdout",
     "output_type": "stream",
     "text": [
      "0\n",
      "1\n",
      "2\n"
     ]
    }
   ],
   "source": [
    "\"\"\"\n",
    "Exercise 6:Write a for loop within a while loop that will count from 0 to 5,but when it reaches 3, it sets a game_over variable to True and breaks out of the loop. The while loop should continue to loop until game_over is True. The output should only be 0, 1, 2.\n",
    "\"\"\"\n",
    "game_over = False\n",
    "while not game_over:\n",
    "    for i in range(5):\n",
    "        if i ==3:\n",
    "            game_over = True\n",
    "            break\n",
    "        print(i)"
   ]
  },
  {
   "cell_type": "markdown",
   "metadata": {},
   "source": [
    "# Working with Lists"
   ]
  },
  {
   "cell_type": "code",
   "execution_count": 3,
   "metadata": {},
   "outputs": [
    {
     "name": "stdout",
     "output_type": "stream",
     "text": [
      "3\n"
     ]
    }
   ],
   "source": [
    "# checking the number of items within a list\n",
    "nums = [5,10,15]\n",
    "length = len(nums)    #len() returns an integer\n",
    "print(length)"
   ]
  },
  {
   "cell_type": "code",
   "execution_count": 6,
   "metadata": {},
   "outputs": [
    {
     "name": "stdout",
     "output_type": "stream",
     "text": [
      "[10, 15]\n",
      "[5, 10]\n",
      "[5, 15]\n",
      "[10, 15]\n"
     ]
    }
   ],
   "source": [
    "# accessing specific items of a list with slices\n",
    "print(nums[1:3])              # will output items in index 1 and 2\n",
    "print(nums[:2])               # will output till index two is reached\n",
    "print(nums[::2])              #step of two\n",
    "print(nums[-2:])              #will print last two items in a list"
   ]
  },
  {
   "cell_type": "code",
   "execution_count": 7,
   "metadata": {},
   "outputs": [
    {
     "name": "stdout",
     "output_type": "stream",
     "text": [
      "[10, 20, 5]\n"
     ]
    }
   ],
   "source": [
    "# adding an item to the back of a list using append\n",
    "nums = [10,20]\n",
    "nums.append(5)\n",
    "print(nums)"
   ]
  },
  {
   "cell_type": "code",
   "execution_count": 9,
   "metadata": {},
   "outputs": [],
   "source": [
    "# adding a value to the beginning of the list\n",
    "wor = [\"ball\",\"base\"]\n",
    "wor.insert(0,\"glove\")     # first number is the index, second is the value"
   ]
  },
  {
   "cell_type": "code",
   "execution_count": 16,
   "metadata": {},
   "outputs": [
    {
     "name": "stdout",
     "output_type": "stream",
     "text": [
      "True\n",
      "5 \n",
      " ['ball']\n"
     ]
    }
   ],
   "source": [
    "# using pop to remove items and saving to a variable to use later\n",
    "items=[5,\"ball\",True]\n",
    "print(items.pop())    #by default removes the last item\n",
    "removed_item = items.pop(0)\n",
    "print(removed_item,\"\\n\",items)"
   ]
  },
  {
   "cell_type": "code",
   "execution_count": 18,
   "metadata": {},
   "outputs": [
    {
     "name": "stdout",
     "output_type": "stream",
     "text": [
      "['baseball', 'football', 'chess']\n"
     ]
    }
   ],
   "source": [
    "# using the remove method with a try and except\n",
    "sports = [\"baseball\", \"soccer\", \"football\", \"chess\"]\n",
    "try:\n",
    "    sports.remove(\"soccer\")\n",
    "except:\n",
    "    print(\"That item does not exist\")\n",
    "print(sports)"
   ]
  },
  {
   "cell_type": "code",
   "execution_count": 21,
   "metadata": {},
   "outputs": [
    {
     "name": "stdout",
     "output_type": "stream",
     "text": [
      "3\n",
      "9\n",
      "17\n"
     ]
    }
   ],
   "source": [
    "# using min,max and sum \n",
    "nums=[5,3,9]\n",
    "print(min(nums))\n",
    "print(max(nums))\n",
    "print(sum(nums))"
   ]
  },
  {
   "cell_type": "code",
   "execution_count": 22,
   "metadata": {},
   "outputs": [
    {
     "name": "stdout",
     "output_type": "stream",
     "text": [
      "[5, 8, 0, 2] [0, 2, 5, 8]\n"
     ]
    }
   ],
   "source": [
    "# using sorted on lists for numerical and alphabetical data\n",
    "nums=[5,8,0,2]\n",
    "sorted_nums = sorted(nums) \n",
    "print(nums,sorted_nums)\n",
    "#does not alter the original list"
   ]
  },
  {
   "cell_type": "code",
   "execution_count": 23,
   "metadata": {},
   "outputs": [
    {
     "name": "stdout",
     "output_type": "stream",
     "text": [
      "[0, 2, 5, 8]\n"
     ]
    }
   ],
   "source": [
    "#sorting a list with .sort() in-place\n",
    "nums=[5,0,8,2]\n",
    "nums.sort()           #alters the original\n",
    "print(nums)"
   ]
  },
  {
   "cell_type": "code",
   "execution_count": 25,
   "metadata": {},
   "outputs": [
    {
     "name": "stdout",
     "output_type": "stream",
     "text": [
      "Mary found\n",
      "Jimmy not found\n"
     ]
    }
   ],
   "source": [
    "# using conditional statement on a list\n",
    "names=[\"Jack\", \"Robert\", \"Mary\"]\n",
    "if \"Mary\" in names:\n",
    "    print(\"Mary found\")\n",
    "if \"Jimmy\" not in names:\n",
    "    print(\"Jimmy not found\")"
   ]
  },
  {
   "cell_type": "code",
   "execution_count": 26,
   "metadata": {},
   "outputs": [
    {
     "name": "stdout",
     "output_type": "stream",
     "text": [
      "empty\n"
     ]
    }
   ],
   "source": [
    "# using conditionals to see if a list is empty\n",
    "nums =[]\n",
    "if not nums:        # could also say 'if nums ==[]'\n",
    "    print(\"empty\")"
   ]
  },
  {
   "cell_type": "code",
   "execution_count": 27,
   "metadata": {},
   "outputs": [
    {
     "name": "stdout",
     "output_type": "stream",
     "text": [
      "Baseball\n",
      "Chess\n",
      "Football\n",
      "Tennis\n"
     ]
    }
   ],
   "source": [
    "# using a for loop to print all items in a list\n",
    "sports = [\"Baseball\",\"Chess\",\"Football\",\"Tennis\"]\n",
    "for sport in sports:\n",
    "    print(sport)\n",
    "    "
   ]
  },
  {
   "cell_type": "code",
   "execution_count": 28,
   "metadata": {},
   "outputs": [
    {
     "name": "stdout",
     "output_type": "stream",
     "text": [
      "['Jack', 'Rob', 'Robert']\n"
     ]
    }
   ],
   "source": [
    "# using the while loop to remove a certain value\n",
    "names = [\"Bob\",\"Jack\",\"Rob\",\"Bob\",\"Robert\"]\n",
    "while 'Bob' in names:\n",
    "    names.remove('Bob')\n",
    "print(names)"
   ]
  },
  {
   "cell_type": "code",
   "execution_count": 32,
   "metadata": {},
   "outputs": [
    {
     "name": "stdout",
     "output_type": "stream",
     "text": [
      "['Amanda', 'Bob', 'Kenny']\n"
     ]
    }
   ],
   "source": [
    "\"\"\"\n",
    "Exercise 7:  Remove all duplicates from the list below. Hint: Use the\n",
    ".count() method. The output should be [‘Bob’, ‘Kenny’, ‘Amanda’]\n",
    "\"\"\"\n",
    "names = ['Bob', 'Kenny', 'Amanda', 'Bob', 'Kenny']\n",
    "for name in names:\n",
    "    counted = names.count(name)\n",
    "    if counted > 1:\n",
    "        new_list = names.remove(name)\n",
    "print(names)"
   ]
  },
  {
   "cell_type": "code",
   "execution_count": 37,
   "metadata": {},
   "outputs": [
    {
     "name": "stdout",
     "output_type": "stream",
     "text": [
      "Enter a wordnever\n",
      "Enter a wordgive \n",
      "Enter a wordup\n",
      "Enter a worddont\n",
      "Enter a wordquit\n",
      "never\n",
      "give \n",
      "up\n",
      "dont\n",
      "quit\n"
     ]
    }
   ],
   "source": [
    "\"\"\"\n",
    "Exercise 8:   Use a while loop to continually ask the user to input a word, until\n",
    "they type “quit ”. Once they type a word in, add it to a list. Once they quit the\n",
    "loop, use a for loop to output all items within the list.\n",
    "\"\"\"\n",
    "keep_running = True\n",
    "word=[]\n",
    "while keep_running:\n",
    "    ask = input(\"Enter a word\").lower()\n",
    "    word.append(ask)\n",
    "    if ask == \"quit\":\n",
    "        keep_running =False\n",
    "for words in word:\n",
    "    print(words)"
   ]
  },
  {
   "cell_type": "markdown",
   "metadata": {},
   "source": [
    "# Project : Creating Hangman "
   ]
  },
  {
   "cell_type": "code",
   "execution_count": null,
   "metadata": {},
   "outputs": [],
   "source": [
    "\"\"\"\n",
    "the steps needed to\n",
    "play the game:\n",
    "1. Select a word to play with.\n",
    "2. Ask user for input.\n",
    "3. Check if guess is correct.\n",
    "  a. If it is, show the letter in the proper place.\n",
    "  b. If it isn’t, lose a life.\n",
    "4. Continue steps 2 and 3 until one of the following occurs:\n",
    "  a. The user guesses the word correctly.\n",
    "  b. The user loses all their lives.\n",
    "\n",
    "\"\"\""
   ]
  },
  {
   "cell_type": "code",
   "execution_count": 82,
   "metadata": {},
   "outputs": [
    {
     "name": "stdout",
     "output_type": "stream",
     "text": [
      "You guessed correctly!\n",
      "Congratulations, you guessed it correctly!\n"
     ]
    }
   ],
   "source": [
    "# import additional functions\n",
    "from random import choice\n",
    "from IPython.display import clear_output\n",
    "\n",
    "# declare game variables\n",
    "words = ['tree', 'basket', 'chair', 'paper', 'python']\n",
    "word = choice(words)\n",
    "guessed, lives, game_over = [], 7, False\n",
    "\n",
    "# create a list of underscores to the length of the word\n",
    "guesses = ['_ '] * len(word)\n",
    "\n",
    "# create main game loop\n",
    "while not game_over:\n",
    "    # output game information\n",
    "    hidden_word = ''.join(guesses)\n",
    "    print('Your guessed letters: {}'.format(guessed))\n",
    "    print('Word to guess: {}'.format(hidden_word))\n",
    "    print('Lives: {}'.format(lives))\n",
    "    \n",
    "    ans = input('Type quit or guess a letter: ').lower()\n",
    "    \n",
    "    clear_output()     # clear all previous output\n",
    "    \n",
    "    if ans == 'quit':\n",
    "        print('Thanks for playing.')\n",
    "        game_over = True\n",
    "    elif ans in word and ans not in guessed:\n",
    "        print('You guessed correctly!')\n",
    "        \n",
    "        # create a loop to change underscore to proper letter\n",
    "        for i in range(len(word)):\n",
    "            if word[i] == ans:\n",
    "                guesses[i] = ans\n",
    "    elif ans in guessed:\n",
    "        print('You already guessed that. Try again.')\n",
    "    else:                 # otherwise lose life\n",
    "        lives -= 1\n",
    "        print('Incorrect, you lost a life.')\n",
    "        \n",
    "    if ans not in guessed:\n",
    "        guessed.append(ans)    # add guess to guessed list\n",
    "        \n",
    "    if lives <= 0:\n",
    "        print('You lost all your lives, you lost!')\n",
    "        game_over = True\n",
    "    elif word == ''.join(guesses):\n",
    "        print('Congratulations, you guessed it correctly!')\n",
    "        game_over = True"
   ]
  },
  {
   "cell_type": "markdown",
   "metadata": {},
   "source": [
    "# Challenges"
   ]
  },
  {
   "cell_type": "code",
   "execution_count": 83,
   "metadata": {},
   "outputs": [
    {
     "name": "stdout",
     "output_type": "stream",
     "text": [
      "enter the number of times x needs to be printed: 5\n",
      "     \n",
      "     x\n",
      "    x x\n",
      "   x x x\n",
      "  x x x x\n",
      " x x x x x\n"
     ]
    }
   ],
   "source": [
    "\"\"\"\n",
    "Use a for loop to build a pyramid of x’s. It should be\n",
    "modular so that if you loop to 5 or 50, it still creates evenly spaced\n",
    "rows. Hint: Multiply the string “x” by the row. For example, if you\n",
    "loop to the range of 4, it should produce the following result:\n",
    ">>> x\n",
    ">>> x x\n",
    ">>> x x x\n",
    "\"\"\"\n",
    "n = int(input(\"enter the number of times x needs to be printed: \"))\n",
    "for i in range(n+1):\n",
    "      print(' ' * (n - i) + ' x' * i)"
   ]
  },
  {
   "cell_type": "code",
   "execution_count": 84,
   "metadata": {},
   "outputs": [
    {
     "name": "stdout",
     "output_type": "stream",
     "text": [
      "john\n",
      "amanda\n"
     ]
    }
   ],
   "source": [
    "\"\"\"\n",
    "Output Names: Write a loop that will iterate over a list of items\n",
    "and only output items which have letters inside of a string. Take\n",
    "the following list, for example, only “John” and “Amanda” should\n",
    "be output:\n",
    ">>> names = ['John', ' ', 'Amanda', 5]\n",
    "\"\"\"\n",
    "names = [\"john\",\" \",\"amanda\",5]\n",
    "for i in names:\n",
    "    if (type(i)==str):\n",
    "        if i.strip() != '':\n",
    "            print(i)\n"
   ]
  },
  {
   "cell_type": "code",
   "execution_count": 81,
   "metadata": {},
   "outputs": [
    {
     "name": "stdout",
     "output_type": "stream",
     "text": [
      "[89.6, 53.6, 111.2, 84.2]\n"
     ]
    }
   ],
   "source": [
    "\"\"\"\n",
    " Given a list of temperatures that are in Celsius, write\n",
    "a loop that iterates over the list and outputs the temperature converted\n",
    "into Fahrenheit. Hint: The conversion is “F = (9/5) ∗ C + 32”:\n",
    ">>> temps = [32, 12, 44, 29]\n",
    "\n",
    "\"\"\"\n",
    "\n",
    "temps = [32, 12, 44, 29]\n",
    "faren=[]\n",
    "for t in temps:\n",
    "    f=(9/5)*t+32\n",
    "    faren.append(f)\n",
    "print(faren)\n",
    "\n",
    "\"\"\"\n",
    "alternative:\n",
    "temps = [32, 12, 44, 29]\n",
    "\n",
    "for i in range(len(temps)):\n",
    "    temps[i] = (9/5) * temps[i] + 32\n",
    "    \n",
    "print(temps)\n",
    "\"\"\"\n",
    "    "
   ]
  }
 ],
 "metadata": {
  "kernelspec": {
   "display_name": "Python 3",
   "language": "python",
   "name": "python3"
  },
  "language_info": {
   "codemirror_mode": {
    "name": "ipython",
    "version": 3
   },
   "file_extension": ".py",
   "mimetype": "text/x-python",
   "name": "python",
   "nbconvert_exporter": "python",
   "pygments_lexer": "ipython3",
   "version": "3.8.5"
  }
 },
 "nbformat": 4,
 "nbformat_minor": 4
}
