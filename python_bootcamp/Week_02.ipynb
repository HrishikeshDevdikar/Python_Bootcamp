{
 "cells": [
  {
   "cell_type": "markdown",
   "metadata": {},
   "source": [
    "# Comments and Basic data types"
   ]
  },
  {
   "cell_type": "code",
   "execution_count": 1,
   "metadata": {},
   "outputs": [
    {
     "name": "stdout",
     "output_type": "stream",
     "text": [
      "2\n",
      "10\n"
     ]
    }
   ],
   "source": [
    "#these are integers\n",
    "print(2)\n",
    "print(10)"
   ]
  },
  {
   "cell_type": "code",
   "execution_count": 2,
   "metadata": {},
   "outputs": [
    {
     "name": "stdout",
     "output_type": "stream",
     "text": [
      "10.6969\n",
      "5.0\n"
     ]
    }
   ],
   "source": [
    "#these are float data type\n",
    "print(10.6969)\n",
    "print(5.00)"
   ]
  },
  {
   "cell_type": "code",
   "execution_count": 3,
   "metadata": {},
   "outputs": [
    {
     "name": "stdout",
     "output_type": "stream",
     "text": [
      "True\n",
      "False\n"
     ]
    }
   ],
   "source": [
    "#these are boolean \n",
    "print(True)\n",
    "print(False)"
   ]
  },
  {
   "cell_type": "code",
   "execution_count": 4,
   "metadata": {},
   "outputs": [
    {
     "name": "stdout",
     "output_type": "stream",
     "text": [
      " \n",
      "Python snake is venomous\n",
      "123True\n"
     ]
    }
   ],
   "source": [
    "# the following are strings\n",
    "print(\" \")\n",
    "print(\"Python snake is venomous\")\n",
    "print(\"123True\")"
   ]
  },
  {
   "cell_type": "code",
   "execution_count": 5,
   "metadata": {},
   "outputs": [
    {
     "data": {
      "text/plain": [
       "str"
      ]
     },
     "execution_count": 5,
     "metadata": {},
     "output_type": "execute_result"
    }
   ],
   "source": [
    "#type-checking\n",
    "type(\"monkey\")"
   ]
  },
  {
   "cell_type": "code",
   "execution_count": 6,
   "metadata": {},
   "outputs": [
    {
     "data": {
      "text/plain": [
       "int"
      ]
     },
     "execution_count": 6,
     "metadata": {},
     "output_type": "execute_result"
    }
   ],
   "source": [
    "type(69)"
   ]
  },
  {
   "cell_type": "code",
   "execution_count": 7,
   "metadata": {},
   "outputs": [
    {
     "data": {
      "text/plain": [
       "bool"
      ]
     },
     "execution_count": 7,
     "metadata": {},
     "output_type": "execute_result"
    }
   ],
   "source": [
    "type(True)"
   ]
  },
  {
   "cell_type": "markdown",
   "metadata": {},
   "source": [
    "# Variables"
   ]
  },
  {
   "cell_type": "code",
   "execution_count": 8,
   "metadata": {},
   "outputs": [
    {
     "name": "stdout",
     "output_type": "stream",
     "text": [
      "5 6.9\n"
     ]
    }
   ],
   "source": [
    "num1 = 5                   #storing an integer into  a variable\n",
    "num2 = 6.9                 #storing a float into a variable\n",
    "print(num1,num2)           #you can print multiple items using commas"
   ]
  },
  {
   "cell_type": "code",
   "execution_count": 9,
   "metadata": {},
   "outputs": [
    {
     "name": "stdout",
     "output_type": "stream",
     "text": [
      "True\n"
     ]
    }
   ],
   "source": [
    "#storing a boolean into a variable\n",
    "switch = True\n",
    "print(switch)"
   ]
  },
  {
   "cell_type": "code",
   "execution_count": 10,
   "metadata": {},
   "outputs": [
    {
     "name": "stdout",
     "output_type": "stream",
     "text": [
      "Hrishikesh Devdikar 69\n"
     ]
    }
   ],
   "source": [
    "# storing a string into a variable\n",
    "name = \"Hrishikesh Devdikar\"\n",
    "fav_number= '69'\n",
    "print(name,fav_number)       #will print 69 next to name"
   ]
  },
  {
   "cell_type": "code",
   "execution_count": 11,
   "metadata": {},
   "outputs": [
    {
     "name": "stdout",
     "output_type": "stream",
     "text": [
      "11.9\n"
     ]
    }
   ],
   "source": [
    "# using two variables to create another variable\n",
    "result = num1 + num2\n",
    "print(result)"
   ]
  },
  {
   "cell_type": "code",
   "execution_count": 12,
   "metadata": {},
   "outputs": [
    {
     "name": "stdout",
     "output_type": "stream",
     "text": [
      "12.9\n",
      "64.5\n"
     ]
    }
   ],
   "source": [
    "# adding, deleting , multiplying , diving from a variable\n",
    "result += 1   # same as result = result + 1\n",
    "print(result) \n",
    "result *= num1  # same as result = result * num1\n",
    "print(result)"
   ]
  },
  {
   "cell_type": "code",
   "execution_count": 13,
   "metadata": {},
   "outputs": [
    {
     "name": "stdout",
     "output_type": "stream",
     "text": [
      "Rakidved\n",
      "HD\n"
     ]
    }
   ],
   "source": [
    "# defining a variable and overwritting it's value\n",
    "name=\"Rakidved\"\n",
    "print(name)\n",
    "name=\"HD\"\n",
    "print(name)"
   ]
  },
  {
   "cell_type": "code",
   "execution_count": 15,
   "metadata": {},
   "outputs": [
    {
     "name": "stdout",
     "output_type": "stream",
     "text": [
      "3  +  10  =  30\n"
     ]
    }
   ],
   "source": [
    "\"\"\"\n",
    "Exercise 1:\n",
    "Store the value 3 in a variable called “x” and the value 10 in\n",
    "a variable called “y”. Save the result of x * y into a separate variable called\n",
    "“result”. Finally, output the information so it shows like the following:\n",
    ">>> 3 + 10 = 13\n",
    "\"\"\"\n",
    "x=3\n",
    "y=10\n",
    "result=x*y\n",
    "print(x,\" + \",y,\" = \",result)"
   ]
  },
  {
   "cell_type": "code",
   "execution_count": 16,
   "metadata": {},
   "outputs": [
    {
     "name": "stdout",
     "output_type": "stream",
     "text": [
      "Area =  3354.0764\n"
     ]
    }
   ],
   "source": [
    "\"\"\"\n",
    "Exercise 2:\n",
    "Calculate the area of a 245.54” x 13.66” rectangle. Print out\n",
    "the result. HINT: Area is width multiplied by height.\n",
    "\"\"\"\n",
    "width=245.54\n",
    "height=13.66\n",
    "result= width * height\n",
    "print(\"Area = \", result)"
   ]
  },
  {
   "cell_type": "markdown",
   "metadata": {},
   "source": [
    "# Working with Strings"
   ]
  },
  {
   "cell_type": "code",
   "execution_count": 17,
   "metadata": {},
   "outputs": [],
   "source": [
    "# String concatenation"
   ]
  },
  {
   "cell_type": "code",
   "execution_count": 18,
   "metadata": {},
   "outputs": [
    {
     "name": "stdout",
     "output_type": "stream",
     "text": [
      "Hrishikesh Devdikar\n"
     ]
    }
   ],
   "source": [
    "# using the addition operator without variable\n",
    "name =\"Hrishikesh\" + \" \" + \"Devdikar\"\n",
    "print(name)"
   ]
  },
  {
   "cell_type": "code",
   "execution_count": 19,
   "metadata": {},
   "outputs": [
    {
     "name": "stdout",
     "output_type": "stream",
     "text": [
      "Hrishikesh Devdikar\n"
     ]
    }
   ],
   "source": [
    "#using the addition operator with variables\n",
    "first_name = \"Hrishikesh\"\n",
    "last_name = \"Devdikar\"\n",
    "full_name = first_name + \" \" + last_name \n",
    "print(full_name)"
   ]
  },
  {
   "cell_type": "code",
   "execution_count": 20,
   "metadata": {},
   "outputs": [
    {
     "name": "stdout",
     "output_type": "stream",
     "text": [
      "Hello Hrishikesh\n",
      "Hello Hrishikesh, you are 23 years old!\n"
     ]
    }
   ],
   "source": [
    "# injecting variables using the format method\n",
    "name = \"Hrishikesh\"\n",
    "print(\"Hello {}\".format(name))\n",
    "print(\"Hello {}, you are {} years old!\".format(name,23))"
   ]
  },
  {
   "cell_type": "code",
   "execution_count": 21,
   "metadata": {},
   "outputs": [
    {
     "name": "stdout",
     "output_type": "stream",
     "text": [
      "Hello Hrishikesh\n"
     ]
    }
   ],
   "source": [
    "# using the new f string method\n",
    "name=\"Hrishikesh\"\n",
    "print(f\"Hello {name}\")"
   ]
  },
  {
   "cell_type": "code",
   "execution_count": 23,
   "metadata": {},
   "outputs": [
    {
     "name": "stdout",
     "output_type": "stream",
     "text": [
      "Hello, Hrishikesh \n",
      "Hello, Hrishikesh Devdikar\n"
     ]
    }
   ],
   "source": [
    "# one major difference between python 2 and 3\n",
    "name=\"Hrishikesh\"\n",
    "print(\"Hello, %s \" %name)\n",
    "print(\"Hello, %s %s\" %(first_name, last_name))"
   ]
  },
  {
   "cell_type": "code",
   "execution_count": 24,
   "metadata": {},
   "outputs": [],
   "source": [
    "#String Indexing"
   ]
  },
  {
   "cell_type": "code",
   "execution_count": 80,
   "metadata": {},
   "outputs": [
    {
     "name": "stdout",
     "output_type": "stream",
     "text": [
      "H\n",
      "e\n",
      "o\n"
     ]
    }
   ],
   "source": [
    "#using indexes to print each element\n",
    "word=\"Hello\"\n",
    "print(word[0])     # will output 'H'\n",
    "print(word[1])     # will output 'e'\n",
    "print(word[-1])    # will output 'o'"
   ]
  },
  {
   "cell_type": "code",
   "execution_count": 26,
   "metadata": {},
   "outputs": [],
   "source": [
    "#String Slicing"
   ]
  },
  {
   "cell_type": "code",
   "execution_count": 91,
   "metadata": {},
   "outputs": [
    {
     "name": "stdout",
     "output_type": "stream",
     "text": [
      "He\n",
      "Hlo\n",
      "olleH\n"
     ]
    }
   ],
   "source": [
    "print(word[0:2])    #variable[start:stop]\n",
    "print(word[0:5:2])  #variable[start:stop:step]\n",
    "print(word[::-1])   #reversing the word"
   ]
  },
  {
   "cell_type": "code",
   "execution_count": 32,
   "metadata": {},
   "outputs": [
    {
     "name": "stdout",
     "output_type": "stream",
     "text": [
      "23 4.5 False Hrishikesh\n"
     ]
    }
   ],
   "source": [
    "\"\"\"\n",
    "Exercise 3: Create a print statement that injects an integer,\n",
    "float, boolean, and string all into one line. The output should look like\n",
    "“23 4.5 False John”.\n",
    "\"\"\"\n",
    "num_int=23\n",
    "num_float=4.5\n",
    "boo=False\n",
    "print(f\"{num_int} {num_float} {boo} {name}\")\n",
    "\n",
    "#alternative: print(\"{} {} {} {}\".format(num_int,num_float,boo,name))"
   ]
  },
  {
   "cell_type": "markdown",
   "metadata": {},
   "source": [
    "# String Manipulation"
   ]
  },
  {
   "cell_type": "code",
   "execution_count": 33,
   "metadata": {},
   "outputs": [
    {
     "name": "stdout",
     "output_type": "stream",
     "text": [
      "Hrishikesh Devdikar\n"
     ]
    }
   ],
   "source": [
    "# using the title method to capitalize the first letter of the string\n",
    "name = \"hrishikesh devdikar\"\n",
    "print(name.title())"
   ]
  },
  {
   "cell_type": "code",
   "execution_count": 35,
   "metadata": {},
   "outputs": [
    {
     "name": "stdout",
     "output_type": "stream",
     "text": [
      "hrishikesh devdikar\n"
     ]
    }
   ],
   "source": [
    "# using the lower method to capitalize the first letter of the string\n",
    "name = \"HrishikesH devdikar\"\n",
    "print(name.lower())"
   ]
  },
  {
   "cell_type": "code",
   "execution_count": 36,
   "metadata": {},
   "outputs": [
    {
     "name": "stdout",
     "output_type": "stream",
     "text": [
      "HRISHIKESH DEVDIKAR\n"
     ]
    }
   ],
   "source": [
    "# using the upper method to capitalize the first letter of the string\n",
    "name = \"hrishikesh devdikar\"\n",
    "print(name.upper())"
   ]
  },
  {
   "cell_type": "code",
   "execution_count": 38,
   "metadata": {},
   "outputs": [
    {
     "name": "stdout",
     "output_type": "stream",
     "text": [
      "Hello there.\n",
      "Hello there.\n"
     ]
    }
   ],
   "source": [
    "# replacing an exclamation mark with a period\n",
    "words= \"Hello there!\"\n",
    "print(words.replace(\"!\",\".\"))  #use of replace(\"what\",\"with what\")\n",
    "words= words.replace(\"!\",\".\") # to properly store the replace\n",
    "print(words)"
   ]
  },
  {
   "cell_type": "code",
   "execution_count": 39,
   "metadata": {},
   "outputs": [
    {
     "name": "stdout",
     "output_type": "stream",
     "text": [
      "5\n"
     ]
    }
   ],
   "source": [
    "# finding the starting index of our searched term\n",
    "s = \"Look over that way\"\n",
    "print(s.find(\"over\"))   #use of find()"
   ]
  },
  {
   "cell_type": "code",
   "execution_count": 40,
   "metadata": {},
   "outputs": [
    {
     "name": "stdout",
     "output_type": "stream",
     "text": [
      "Hrishikesh\n"
     ]
    }
   ],
   "source": [
    "# removing white spaces from both ends with strip\n",
    "name = \"   Hrishikesh   \"\n",
    "print(name.strip())"
   ]
  },
  {
   "cell_type": "code",
   "execution_count": 41,
   "metadata": {},
   "outputs": [
    {
     "name": "stdout",
     "output_type": "stream",
     "text": [
      "Hrishikesh   \n"
     ]
    }
   ],
   "source": [
    "# removing white spaces from left end with strip\n",
    "name = \"   Hrishikesh   \"\n",
    "print(name.lstrip())"
   ]
  },
  {
   "cell_type": "code",
   "execution_count": 42,
   "metadata": {},
   "outputs": [
    {
     "name": "stdout",
     "output_type": "stream",
     "text": [
      "   Hrishikesh\n"
     ]
    }
   ],
   "source": [
    "# removing white spaces from right end with strip\n",
    "name = \"   Hrishikesh   \"\n",
    "print(name.rstrip())"
   ]
  },
  {
   "cell_type": "code",
   "execution_count": 43,
   "metadata": {},
   "outputs": [
    {
     "name": "stdout",
     "output_type": "stream",
     "text": [
      "['These', 'words', 'are', 'seperated', 'by', 'spaces']\n"
     ]
    }
   ],
   "source": [
    "# converting a string into a list of words\n",
    "s = \"These words are seperated by spaces\"\n",
    "print(s.split())   #seperates the words into list"
   ]
  },
  {
   "cell_type": "code",
   "execution_count": 44,
   "metadata": {},
   "outputs": [
    {
     "name": "stdout",
     "output_type": "stream",
     "text": [
      "UPPERCASE\n"
     ]
    }
   ],
   "source": [
    "\"\"\"\n",
    "Exercise 4:Try manipulating the string “uppercase” so it prints out as all\n",
    "uppercase letters.\n",
    "\n",
    "\"\"\"\n",
    "str= \"uppercase\"\n",
    "print(str.upper())"
   ]
  },
  {
   "cell_type": "code",
   "execution_count": 48,
   "metadata": {},
   "outputs": [
    {
     "name": "stdout",
     "output_type": "stream",
     "text": [
      "Hrishikesh Devdikar\n"
     ]
    }
   ],
   "source": [
    "\"\"\"\n",
    "Exercise 5:Strip all the dollar signs from the left side of this string “$$Hrishikesh\n",
    "Devdikar”.\n",
    "\n",
    "\"\"\"\n",
    "str= \"$$Hrishikesh Devdikar\"\n",
    "print(str.strip('$'))\n",
    "#alternate: print(str.lstrip('$'))"
   ]
  },
  {
   "cell_type": "markdown",
   "metadata": {},
   "source": [
    "# Project : Printing Receipts"
   ]
  },
  {
   "cell_type": "code",
   "execution_count": 74,
   "metadata": {},
   "outputs": [
    {
     "name": "stdout",
     "output_type": "stream",
     "text": [
      "**************************************************\n",
      "\t\tCoding Temple, Inc.\n",
      "\t\t283 Franklin St.\n",
      "\t\tBoston, MA\n",
      "==================================================\n",
      "\tProduct Name\tProduct Price\n",
      "\tBooks\t \t$49.95\n",
      "\tComputer \t$579.99\n",
      "\tMonitor\t \t$124.89\n",
      "==================================================\n",
      "\t\t\tTotal\n",
      "\t\t\t$754.83\n",
      "==================================================\n",
      "\n",
      "\tThanks for shopping with us today!\n",
      "\n",
      "**************************************************\n"
     ]
    }
   ],
   "source": [
    "#create a product and price for three items\n",
    "p1_name,p1_price = \"Books\", 49.95\n",
    "p2_name,p2_price = \"Computer\", 579.99\n",
    "p3_name,p3_price = \"Monitor\", 124.89\n",
    "\n",
    "#create a company name and information\n",
    "company_name=\"coding temple, inc.\"\n",
    "company_address=\"283 Franklin St.\"\n",
    "company_city=\"Boston, MA\"\n",
    "\n",
    "#declare ending message\n",
    "message= \"Thanks for shopping with us today!\"\n",
    "\n",
    "#create a top border\n",
    "print(\"*\" * 50)\n",
    "\n",
    "# print company information using format function\n",
    "print(\"\\t\\t{}\".format(company_name.title()))\n",
    "print(\"\\t\\t{}\".format(company_address))\n",
    "print(\"\\t\\t{}\".format(company_city))\n",
    "\n",
    "#print line between sections\n",
    "print(\"=\"*50)\n",
    "\n",
    "# print out header for section of items\n",
    "print(\"\\tProduct Name\\tProduct Price\")\n",
    "\n",
    "#Create a print statement for each product using f-insert\n",
    "print(f\"\\t{p1_name}\\t \\t${p1_price}\")\n",
    "print(f\"\\t{p2_name} \\t${p2_price}\")\n",
    "print(f\"\\t{p3_name}\\t \\t${p3_price}\")\n",
    "\n",
    "#print line between sections\n",
    "print(\"=\"*50)\n",
    "\n",
    "# Printing header for total\n",
    "print(\"\\t\\t\\tTotal\")\n",
    "\n",
    "#calculating the total\n",
    "total=p1_price + p2_price + p3_price\n",
    "print(f\"\\t\\t\\t${total}\")\n",
    "\n",
    "#print line between sections\n",
    "print(\"=\"*50)\n",
    "\n",
    "#print ending message\n",
    "print(f\"\\n\\t{message}\\n\")\n",
    "\n",
    "#create a bottom border\n",
    "print(\"*\" * 50)\n"
   ]
  }
 ],
 "metadata": {
  "kernelspec": {
   "display_name": "Python 3",
   "language": "python",
   "name": "python3"
  },
  "language_info": {
   "codemirror_mode": {
    "name": "ipython",
    "version": 3
   },
   "file_extension": ".py",
   "mimetype": "text/x-python",
   "name": "python",
   "nbconvert_exporter": "python",
   "pygments_lexer": "ipython3",
   "version": "3.8.5"
  }
 },
 "nbformat": 4,
 "nbformat_minor": 4
}
