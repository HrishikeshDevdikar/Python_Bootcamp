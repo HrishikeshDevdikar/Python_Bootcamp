{
 "cells": [
  {
   "cell_type": "markdown",
   "metadata": {},
   "source": [
    "# Dictionaries"
   ]
  },
  {
   "cell_type": "code",
   "execution_count": 3,
   "metadata": {},
   "outputs": [
    {
     "name": "stdout",
     "output_type": "stream",
     "text": [
      "{} {'name': 'Hrishikesh Devdikar'} {'name': 'Morty', 'age': 22}\n"
     ]
    }
   ],
   "source": [
    "# declaring a dictionary vairable\n",
    "empty = {}          # empty dictionary\n",
    "person = {\"name\":\"Hrishikesh Devdikar\"} #dictionary with one key-pair\n",
    "customer = {\n",
    "    \"name\" :  \"Morty\",\n",
    "    \"age\"  :   22\n",
    "}            # dicitonary with 2  pair key/value\n",
    "print(empty, person , customer)\n"
   ]
  },
  {
   "cell_type": "code",
   "execution_count": 4,
   "metadata": {},
   "outputs": [
    {
     "name": "stdout",
     "output_type": "stream",
     "text": [
      "Hrishikesh Devdikar\n"
     ]
    }
   ],
   "source": [
    "# accessing data from dictionary\n",
    "print(person [\"name\"])"
   ]
  },
  {
   "cell_type": "code",
   "execution_count": 5,
   "metadata": {},
   "outputs": [
    {
     "name": "stdout",
     "output_type": "stream",
     "text": [
      "Harry Potter\n",
      "Age is not Available\n"
     ]
    }
   ],
   "source": [
    "# using the get method to access dictionary data\n",
    "person={\"name\":\"Harry Potter\"}\n",
    "print(person.get(\"name\"))      #retrieves value of name key as before\\\n",
    "print(person.get(\"age\",\"Age is not Available\")) #secure way of retreiving info as error can be handled"
   ]
  },
  {
   "cell_type": "code",
   "execution_count": 6,
   "metadata": {},
   "outputs": [
    {
     "name": "stdout",
     "output_type": "stream",
     "text": [
      "Chess\n"
     ]
    }
   ],
   "source": [
    "# storing a list within a dictionary and accessing it\n",
    "data = {\"sports\":[\"Chess\",\"Football\",\"Hockey\",\"Tennis\"]}\n",
    "print(data[\"sports\"][0])# first access key then the index"
   ]
  },
  {
   "cell_type": "code",
   "execution_count": 7,
   "metadata": {},
   "outputs": [
    {
     "name": "stdout",
     "output_type": "stream",
     "text": [
      "{'sports': ['Chess', 'Football', 'Hockey', 'Tennis']}\n"
     ]
    }
   ],
   "source": [
    "# improper storing a list within a dictionary\n",
    "sports = [\"Chess\",\"Football\",\"Hockey\",\"Tennis\"]\n",
    "#sports_dict = dict(sports)          # will produce error, no key\n",
    "sports_dict = dict({\"sports\":sports})\n",
    "print(sports_dict)"
   ]
  },
  {
   "cell_type": "code",
   "execution_count": 8,
   "metadata": {},
   "outputs": [
    {
     "name": "stdout",
     "output_type": "stream",
     "text": [
      "['Rick', 'Dalton', {'name': 'Kristen'}]\n",
      "{'name': 'Kristen'}\n",
      "Kristen\n"
     ]
    }
   ],
   "source": [
    "# storing a dictionary within a list and accessing it\n",
    "data = [\"Rick\",\"Dalton\",{\"name\":\"Kristen\"}]\n",
    "print(data)\n",
    "print(data[2])      #dicitonary is index 2\n",
    "print(data[2][\"name\"])"
   ]
  },
  {
   "cell_type": "code",
   "execution_count": 9,
   "metadata": {},
   "outputs": [
    {
     "name": "stdout",
     "output_type": "stream",
     "text": [
      "{'2018': 108, '2017': 93}\n",
      "108\n"
     ]
    }
   ],
   "source": [
    "# storing a dictionary within a dictionary and accessing it\n",
    "data = {\n",
    "    \"team\":\"Boston Red Sox\",\n",
    "    \"wins\":{\"2018\": 108, \"2017\": 93}\n",
    "}\n",
    "print(data.get(\"wins\"))\n",
    "print(data[\"wins\"].get(\"2018\"))\n",
    "# alternative: print(data[\"wins\"][\"2018\"])"
   ]
  },
  {
   "cell_type": "code",
   "execution_count": 10,
   "metadata": {},
   "outputs": [
    {
     "ename": "KeyboardInterrupt",
     "evalue": "Interrupted by user",
     "output_type": "error",
     "traceback": [
      "\u001b[1;31m---------------------------------------------------------------------------\u001b[0m",
      "\u001b[1;31mKeyboardInterrupt\u001b[0m                         Traceback (most recent call last)",
      "\u001b[1;32m<ipython-input-10-9e248ecfdf03>\u001b[0m in \u001b[0;36m<module>\u001b[1;34m\u001b[0m\n\u001b[0;32m      3\u001b[0m \u001b[1;32mwith\u001b[0m \u001b[0mthose\u001b[0m \u001b[0mkey\u001b[0m\u001b[1;33m-\u001b[0m\u001b[0mvalue\u001b[0m \u001b[0mpairs\u001b[0m\u001b[1;33m.\u001b[0m \u001b[0mOutput\u001b[0m \u001b[0mthe\u001b[0m \u001b[0mdictionary\u001b[0m \u001b[0monce\u001b[0m \u001b[0mcreated\u001b[0m\u001b[1;33m.\u001b[0m\u001b[1;33m\u001b[0m\u001b[1;33m\u001b[0m\u001b[0m\n\u001b[0;32m      4\u001b[0m \"\"\"\n\u001b[1;32m----> 5\u001b[1;33m \u001b[0mname\u001b[0m \u001b[1;33m=\u001b[0m \u001b[0minput\u001b[0m\u001b[1;33m(\u001b[0m\u001b[1;34m\"Enter Name: \"\u001b[0m\u001b[1;33m)\u001b[0m\u001b[1;33m\u001b[0m\u001b[1;33m\u001b[0m\u001b[0m\n\u001b[0m\u001b[0;32m      6\u001b[0m \u001b[0mage\u001b[0m \u001b[1;33m=\u001b[0m \u001b[0minput\u001b[0m\u001b[1;33m(\u001b[0m\u001b[1;34m\"Enter Age: \"\u001b[0m\u001b[1;33m)\u001b[0m\u001b[1;33m\u001b[0m\u001b[1;33m\u001b[0m\u001b[0m\n\u001b[0;32m      7\u001b[0m data ={\n",
      "\u001b[1;32m~\\anaconda3\\lib\\site-packages\\ipykernel\\kernelbase.py\u001b[0m in \u001b[0;36mraw_input\u001b[1;34m(self, prompt)\u001b[0m\n\u001b[0;32m    858\u001b[0m                 \u001b[1;34m\"raw_input was called, but this frontend does not support input requests.\"\u001b[0m\u001b[1;33m\u001b[0m\u001b[1;33m\u001b[0m\u001b[0m\n\u001b[0;32m    859\u001b[0m             )\n\u001b[1;32m--> 860\u001b[1;33m         return self._input_request(str(prompt),\n\u001b[0m\u001b[0;32m    861\u001b[0m             \u001b[0mself\u001b[0m\u001b[1;33m.\u001b[0m\u001b[0m_parent_ident\u001b[0m\u001b[1;33m,\u001b[0m\u001b[1;33m\u001b[0m\u001b[1;33m\u001b[0m\u001b[0m\n\u001b[0;32m    862\u001b[0m             \u001b[0mself\u001b[0m\u001b[1;33m.\u001b[0m\u001b[0m_parent_header\u001b[0m\u001b[1;33m,\u001b[0m\u001b[1;33m\u001b[0m\u001b[1;33m\u001b[0m\u001b[0m\n",
      "\u001b[1;32m~\\anaconda3\\lib\\site-packages\\ipykernel\\kernelbase.py\u001b[0m in \u001b[0;36m_input_request\u001b[1;34m(self, prompt, ident, parent, password)\u001b[0m\n\u001b[0;32m    902\u001b[0m             \u001b[1;32mexcept\u001b[0m \u001b[0mKeyboardInterrupt\u001b[0m\u001b[1;33m:\u001b[0m\u001b[1;33m\u001b[0m\u001b[1;33m\u001b[0m\u001b[0m\n\u001b[0;32m    903\u001b[0m                 \u001b[1;31m# re-raise KeyboardInterrupt, to truncate traceback\u001b[0m\u001b[1;33m\u001b[0m\u001b[1;33m\u001b[0m\u001b[1;33m\u001b[0m\u001b[0m\n\u001b[1;32m--> 904\u001b[1;33m                 \u001b[1;32mraise\u001b[0m \u001b[0mKeyboardInterrupt\u001b[0m\u001b[1;33m(\u001b[0m\u001b[1;34m\"Interrupted by user\"\u001b[0m\u001b[1;33m)\u001b[0m \u001b[1;32mfrom\u001b[0m \u001b[1;32mNone\u001b[0m\u001b[1;33m\u001b[0m\u001b[1;33m\u001b[0m\u001b[0m\n\u001b[0m\u001b[0;32m    905\u001b[0m             \u001b[1;32mexcept\u001b[0m \u001b[0mException\u001b[0m \u001b[1;32mas\u001b[0m \u001b[0me\u001b[0m\u001b[1;33m:\u001b[0m\u001b[1;33m\u001b[0m\u001b[1;33m\u001b[0m\u001b[0m\n\u001b[0;32m    906\u001b[0m                 \u001b[0mself\u001b[0m\u001b[1;33m.\u001b[0m\u001b[0mlog\u001b[0m\u001b[1;33m.\u001b[0m\u001b[0mwarning\u001b[0m\u001b[1;33m(\u001b[0m\u001b[1;34m\"Invalid Message:\"\u001b[0m\u001b[1;33m,\u001b[0m \u001b[0mexc_info\u001b[0m\u001b[1;33m=\u001b[0m\u001b[1;32mTrue\u001b[0m\u001b[1;33m)\u001b[0m\u001b[1;33m\u001b[0m\u001b[1;33m\u001b[0m\u001b[0m\n",
      "\u001b[1;31mKeyboardInterrupt\u001b[0m: Interrupted by user"
     ]
    }
   ],
   "source": [
    "\"\"\"\n",
    "Exercise 1:Ask the user for their name and age, and then create a dictionary\n",
    "with those key-value pairs. Output the dictionary once created.\n",
    "\"\"\"\n",
    "name = input(\"Enter Name: \")\n",
    "age = input(\"Enter Age: \")\n",
    "data ={\n",
    "    \"Name\":name,\n",
    "    \"Age\":age\n",
    "}\n",
    "print(data)"
   ]
  },
  {
   "cell_type": "code",
   "execution_count": null,
   "metadata": {},
   "outputs": [],
   "source": [
    "\"\"\"\n",
    "Exercise 2:Output all the ingredients from the following list within\n",
    "the “ingredients” key using a for loop:\n",
    ">>> pizza = {\n",
    ">>> 'ingredients': ['cheese', 'sausage', 'peppers']\n",
    ">>> }\n",
    "\n",
    "\"\"\"\n",
    "pizza = { 'ingredients': ['cheese', 'sausage', 'peppers']  }\n",
    "for i in pizza['ingredients']:\n",
    "    print(i)"
   ]
  },
  {
   "cell_type": "markdown",
   "metadata": {},
   "source": [
    "# Working with Dictionaries"
   ]
  },
  {
   "cell_type": "code",
   "execution_count": null,
   "metadata": {},
   "outputs": [],
   "source": [
    "# adding new key/value pair to a dictionary\n",
    "car = {\"year\":2018}\n",
    "car[\"color\"] = \"Blue\"\n",
    "print(\"Year: {} \\t Color: {}\".format(car[\"year\"],car[\"color\"]))"
   ]
  },
  {
   "cell_type": "code",
   "execution_count": null,
   "metadata": {},
   "outputs": [],
   "source": [
    "# updating a value for a key/value pair that already exists\n",
    "car = {\"year\":2018,\"color\":\"blue\"}\n",
    "car[\"color\"] = \"Red\"\n",
    "print(\"Year: {} \\t Color: {}\".format(car[\"year\"],car[\"color\"]))"
   ]
  },
  {
   "cell_type": "code",
   "execution_count": null,
   "metadata": {},
   "outputs": [],
   "source": [
    "# deleting a key/value pair from a dictionary\n",
    "car ={\"year\":2020}\n",
    "try:\n",
    "    del car[\"year\"]\n",
    "    print(car)\n",
    "except:\n",
    "    print(\"That key does not exist\")"
   ]
  },
  {
   "cell_type": "code",
   "execution_count": null,
   "metadata": {},
   "outputs": [],
   "source": [
    "# looping over a dictionary via the keys\n",
    "person = {\"name\": \"James Bond\",\"age\":30}\n",
    "for key in person.keys():\n",
    "    print(key)\n",
    "    print(person[key])"
   ]
  },
  {
   "cell_type": "code",
   "execution_count": null,
   "metadata": {},
   "outputs": [],
   "source": [
    "# looping over a dictionary via the values\n",
    "person = {\"name\": \"James Bond\",\"age\":30}\n",
    "for value in person.values( ):\n",
    "    print(value)"
   ]
  },
  {
   "cell_type": "code",
   "execution_count": null,
   "metadata": {},
   "outputs": [],
   "source": [
    "# looping over a dicitionary via the key/value pair\n",
    "person = {\"name\": \"James Bond\",\"age\":30}\n",
    "for key, values in person.items():\n",
    "    print(f\"{key} {values}\")"
   ]
  },
  {
   "cell_type": "code",
   "execution_count": null,
   "metadata": {},
   "outputs": [],
   "source": [
    "\"\"\"\n",
    "Exercise 3: Declare an empty dictionary. Ask the user for their name, address,\n",
    "and number. Add that information to the dictionary and iterate over it to show\n",
    "the user.\n",
    "\"\"\"\n",
    "empty = {}\n",
    "name=input(\"Enter Name: \")\n",
    "address = input(\"Enter Address\")\n",
    "number= input (\"Enter mobile number: \")\n",
    "empty[\"name\"]= name\n",
    "empty[\"address\"]= address\n",
    "empty[\"number\"]= number\n",
    "print(empty)\n",
    "for k,v in empty.items():\n",
    "    print(f\"{k} {v}\")\n"
   ]
  },
  {
   "cell_type": "markdown",
   "metadata": {},
   "source": [
    "# Tuples, Sets and Frozensets"
   ]
  },
  {
   "cell_type": "code",
   "execution_count": null,
   "metadata": {},
   "outputs": [],
   "source": [
    "# declaring a tuple\n",
    "t1 = (\"hello\",2,\"hello\")  # tuples are like list just immutable \n",
    "t2 = True, 1          # can be declared with or without parenthesis\n",
    "print(type(t1),type(t2)) "
   ]
  },
  {
   "cell_type": "code",
   "execution_count": null,
   "metadata": {},
   "outputs": [],
   "source": [
    "#declaring set\n",
    "s1 =set([1,2,3,4,1]) # uses the set keyword and square brackets\n",
    "s2 = {4,4,5}  # uses curcly brackets like dictionary but without key\n",
    "print(type(s1),type(s2))\n",
    "s1.add(5) #using the add method to add new items to a set\n",
    "s1.remove(1)  #using the remove method to get rid of the value 1\n",
    "print(s1)  #drops the second '1'  as set is unique"
   ]
  },
  {
   "cell_type": "code",
   "execution_count": null,
   "metadata": {},
   "outputs": [],
   "source": [
    "#declaring a frozenset\n",
    "fset = frozenset([1,2,3,4])\n",
    "print(type(fset))"
   ]
  },
  {
   "cell_type": "code",
   "execution_count": null,
   "metadata": {},
   "outputs": [],
   "source": [
    "\"\"\"\n",
    "Exercise :Ask the user to input as many bank account numbers as they’d\n",
    "like, and store them within a list initially. Once the user is done entering\n",
    "information, convert the list to a frozenset and print it out.\n",
    "\"\"\"\n",
    "accounts = []\n",
    "done = False\n",
    "\n",
    "while not done:\n",
    "    ans = input('Enter an account number or quit: ').lower()\n",
    "    \n",
    "    if ans == 'quit':\n",
    "        done = True\n",
    "        \n",
    "        accounts = frozenset(accounts)\n",
    "        for acc in accounts:\n",
    "            print(\"Account Number: {}\".format(acc))\n",
    "            \n",
    "    else:\n",
    "        accounts.append(ans)\n"
   ]
  },
  {
   "cell_type": "code",
   "execution_count": null,
   "metadata": {},
   "outputs": [],
   "source": [
    "\"\"\"\n",
    "Exercise :Convert the following list into a set of unique values. Print it out\n",
    "after to check there are no duplicates:\n",
    ">>> nums = [3, 4, 3, 7, 10]\n",
    "\"\"\"\n",
    "nums = [3, 4, 3, 7, 10]\n",
    "nums = set(nums)\n",
    "print(nums)"
   ]
  },
  {
   "cell_type": "markdown",
   "metadata": {},
   "source": [
    "# Reading & Writing files\n"
   ]
  },
  {
   "cell_type": "code",
   "execution_count": null,
   "metadata": {},
   "outputs": [],
   "source": [
    "# opening/creating and writing to a test file\n",
    "f = open(\"test.txt\",\"w+\")  #open file in reading and writing mode\n",
    "f.write(\"This is test\")\n",
    "f.close()\n",
    "#reading from a text file\n",
    "f = open(\"test.txt\",\"r\")\n",
    "data = f.read()\n",
    "f.close()\n",
    "print(data)"
   ]
  },
  {
   "cell_type": "code",
   "execution_count": null,
   "metadata": {},
   "outputs": [],
   "source": [
    "# opening/creating and writing to a csv file\n",
    "import csv\n",
    "with open(\"test.csv\",mode=\"w\",newline=\"\")as f:\n",
    "    writer = csv.writer(f,delimiter=\",\")\n",
    "    writer.writerow([\"Name\",\"City\"])\n",
    "    writer.writerow([\"Bames Jond\",\"NYC\"])"
   ]
  },
  {
   "cell_type": "code",
   "execution_count": null,
   "metadata": {},
   "outputs": [],
   "source": [
    "# reading from csv file\n",
    "with open(\"test.csv\",mode='r') as f:\n",
    "    reader = csv.reader(f,delimiter=\",\")\n",
    "    for row in reader:\n",
    "        print(row)"
   ]
  },
  {
   "cell_type": "code",
   "execution_count": null,
   "metadata": {},
   "outputs": [],
   "source": [
    "\"\"\"\n",
    "Exercise: Ask a user for their favorite number, and save it to a text file.\n",
    "\"\"\"\n",
    "ask =input(\"Enter the Number: \")\n",
    "f = open(\"test.txt\",\"w+\")\n",
    "f.write(ask)\n",
    "f.close()\n",
    "f = open(\"test.txt\",\"r\")\n",
    "data = f.read()\n",
    "f.close()\n",
    "print(f\"Your Number is: {data}\")"
   ]
  },
  {
   "cell_type": "code",
   "execution_count": null,
   "metadata": {},
   "outputs": [],
   "source": [
    "\"\"\"\n",
    "Exercise: Using the dictionary of following data, save the\n",
    "information to a csv file with the keys as the headers and the\n",
    "values as the rows of data:\n",
    ">>> Using the dictionary of following data, save the\n",
    "information to a csv file with the keys as the headers and the\n",
    "values as the rows of data:\n",
    ">>> data = {\n",
    "'name' : ['Dave', 'Dennis', 'Peter', 'Jess'],\n",
    "'language': ['Python', 'C', 'Java', 'Python']\n",
    "}\n",
    "\"\"\"\n",
    "\n",
    "data = {\n",
    "    'name' : ['Dave', 'Dennis', 'Peter', \"Jess\"],\n",
    "    'language' : ['Python', 'C', 'Java', 'Python']\n",
    "}\n",
    "\n",
    "import csv\n",
    "\n",
    "with open('data.csv', mode='w', newline='') as f:\n",
    "    writer = csv.writer(f, delimiter=',')\n",
    "    writer.writerow(data.keys())\n",
    "    \n",
    "    for i in range(len(data['name'])):\n",
    "        writer.writerow([data['name'][i], data['language'][i]])"
   ]
  },
  {
   "cell_type": "markdown",
   "metadata": {},
   "source": [
    "# Creating a User Database with CSV Files"
   ]
  },
  {
   "cell_type": "code",
   "execution_count": null,
   "metadata": {},
   "outputs": [],
   "source": [
    "\"\"\"\n",
    "1. Check to see if user is logged in.\n",
    "a. If logged in, ask if they would like to log out/quit.\n",
    "i. Either quit or log out user and restart.\n",
    "b. Else, ask if they would like to log in/register/quit.\n",
    "i. If log in, ask user for e-mail/password.\n",
    "1. If correct, log user in and restart.\n",
    "2. Else, display error and restart.\n",
    "ii. If register, ask for e-mail/password/password2.\n",
    "1. If passwords match, save user and restart.\n",
    "2. Else, display error and restart.\n",
    "iii. If quit, say thank you and exit program.\n",
    "\n",
    "\"\"\""
   ]
  },
  {
   "cell_type": "code",
   "execution_count": 15,
   "metadata": {},
   "outputs": [
    {
     "name": "stdout",
     "output_type": "stream",
     "text": [
      "Thanks for using our software!\n"
     ]
    }
   ],
   "source": [
    "# import all necessary packages to be used\n",
    "import csv\n",
    "from IPython.display import clear_output\n",
    "\n",
    "# handle user changing password\n",
    "def changePassword():\n",
    "    ''' \n",
    "        This function must confirm email and pass, then read data and save to local list\n",
    "        because you cannot change a single value, you must save all data, then overwrite\n",
    "        the entire file all together.\n",
    "    '''\n",
    "    \n",
    "    email = input('Please confirm your e-mail: ')\n",
    "    password = input('Please confirm your current password: ')\n",
    "    \n",
    "    emails = []\n",
    "    passwords = []\n",
    "    found = False\n",
    "\n",
    "    with open('users.csv', mode='r') as f:\n",
    "        reader = csv.reader(f, delimiter=',')\n",
    "        \n",
    "        for row in reader:\n",
    "            if row == [email, password]:\n",
    "                found = True\n",
    "            elif row:\n",
    "                emails.append(row[0])\n",
    "                passwords.append(row[1])\n",
    "    \n",
    "    if found:\n",
    "        new_pass = input('What would you like to change your password to? ')\n",
    "        \n",
    "        emails.append(email)\n",
    "        passwords.append(new_pass)\n",
    "        \n",
    "        with open('users.csv', mode='w') as f:\n",
    "            writer = csv.writer(f, delimiter=',')\n",
    "            \n",
    "            for i in range(len(emails)):\n",
    "                writer.writerow([emails[i], passwords[i]])\n",
    "    else:\n",
    "        print('Sorry those credentials were incorrect.')\n",
    "\n",
    "# handle user registration and writing to csv\n",
    "def registerUser():\n",
    "    with open('users.csv', mode='a', newline='') as f:\n",
    "        writer = csv.writer(f, delimiter=',')\n",
    "        \n",
    "        print('To register, please enter your info:')\n",
    "        email = input('E-mail: ')\n",
    "        password = input('Password: ')\n",
    "        password2 = input('Re-type password: ')\n",
    "\n",
    "        clear_output()\n",
    "        \n",
    "        if password == password2:\n",
    "            writer.writerow([email, password])\n",
    "            print('You are now registered!')\n",
    "        else:\n",
    "            print('Something went wrong. Try again.')\n",
    "            \n",
    "# ask for user info and return true to login\n",
    "def loginUser():\n",
    "    print('To login, please enter your info:')\n",
    "    email = input('E-mail: ')\n",
    "    password = input('Password: ')\n",
    "    \n",
    "    clear_output()\n",
    "    \n",
    "    with open('users.csv', mode='r') as f:\n",
    "        reader = csv.reader(f, delimiter=',')\n",
    "        \n",
    "        for row in reader:\n",
    "            if row == [email, password]:\n",
    "                print('You are now logged in!')\n",
    "                return True\n",
    "    \n",
    "    print('Something went wrong, try again.')\n",
    "    return False\n",
    "            \n",
    "# variables for main loop\n",
    "active = True\n",
    "logged_in = False\n",
    "\n",
    "# main loop\n",
    "while active:\n",
    "    if logged_in:\n",
    "        print('1. Logout\\n2. Change Password\\n3. Quit')\n",
    "    else:\n",
    "        print('1. Login\\n2. Register\\n3. Quit')\n",
    "    \n",
    "    choice = input('What would you like to do? ').lower()\n",
    "    \n",
    "    clear_output()\n",
    "    \n",
    "    if choice == 'register' and logged_in == False:\n",
    "        registerUser()\n",
    "    elif choice == 'login' and logged_in == False:\n",
    "        logged_in = loginUser()\n",
    "    elif choice == 'quit':\n",
    "        active = False\n",
    "        print('Thanks for using our software!')\n",
    "    elif choice == 'logout' and logged_in == True:\n",
    "        logged_in = False\n",
    "        print('You are now logged out.')\n",
    "    elif choice == 'change password' and logged_in == True:\n",
    "        changePassword()\n",
    "    else:\n",
    "        print('Sorry, please try again!')"
   ]
  },
  {
   "cell_type": "code",
   "execution_count": 17,
   "metadata": {},
   "outputs": [
    {
     "name": "stdout",
     "output_type": "stream",
     "text": [
      "Here are the results so far...\n",
      "pizza: 1\n"
     ]
    }
   ],
   "source": [
    "\"\"\"\n",
    "Write a new program that will ask users what their favorite food is. Save the answers to a csv file called \"favorite_food.csv\". After answering, display a table of tallied results. Example of table:\n",
    "\n",
    "Favorite Food?              # of Votes\n",
    "Turkey                            5\n",
    "Salad                              3\n",
    "\n",
    "\"\"\"\n",
    "def saveFood():\n",
    "    ans = input('What is your favorite food? ')\n",
    "    \n",
    "    with open('favorite_food.csv', mode='a', newline='') as f:\n",
    "        writer = csv.writer(f, delimiter=',')\n",
    "        \n",
    "        writer.writerow([ans])\n",
    "    \n",
    "    print('Food added!')\n",
    "    \n",
    "def countFood():\n",
    "    food_count = {}\n",
    "    \n",
    "    with open('favorite_food.csv', mode='r') as f:\n",
    "        reader = csv.reader(f, delimiter=',')\n",
    "        \n",
    "        for row in reader:\n",
    "            if row[0].lower() in food_count:\n",
    "                food_count[row[0].lower()] += 1\n",
    "            else:\n",
    "                food_count[row[0].lower()] = 1\n",
    "                \n",
    "    return food_count\n",
    "\n",
    "def main():\n",
    "    while input('Would you like to add more? ').lower() != 'no':\n",
    "        saveFood()\n",
    "        \n",
    "    clear_output()\n",
    "    \n",
    "    print('Here are the results so far...')\n",
    "    \n",
    "    food_count = countFood()\n",
    "    \n",
    "    for k, v in food_count.items():\n",
    "        print(\"{}: {}\".format(k, v))\n",
    "        \n",
    "main()"
   ]
  }
 ],
 "metadata": {
  "kernelspec": {
   "display_name": "Python 3",
   "language": "python",
   "name": "python3"
  },
  "language_info": {
   "codemirror_mode": {
    "name": "ipython",
    "version": 3
   },
   "file_extension": ".py",
   "mimetype": "text/x-python",
   "name": "python",
   "nbconvert_exporter": "python",
   "pygments_lexer": "ipython3",
   "version": "3.8.5"
  }
 },
 "nbformat": 4,
 "nbformat_minor": 4
}
